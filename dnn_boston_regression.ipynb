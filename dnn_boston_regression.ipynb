{
  "nbformat": 4,
  "nbformat_minor": 0,
  "metadata": {
    "colab": {
      "name": "dnn_boston_regression.ipynb",
      "provenance": [],
      "collapsed_sections": [],
      "include_colab_link": true
    },
    "kernelspec": {
      "name": "python3",
      "display_name": "Python 3"
    }
  },
  "cells": [
    {
      "cell_type": "markdown",
      "metadata": {
        "id": "view-in-github",
        "colab_type": "text"
      },
      "source": [
        "<a href=\"https://colab.research.google.com/github/Arem77/Colab/blob/master/dnn_boston_regression.ipynb\" target=\"_parent\"><img src=\"https://colab.research.google.com/assets/colab-badge.svg\" alt=\"Open In Colab\"/></a>"
      ]
    },
    {
      "cell_type": "code",
      "metadata": {
        "id": "SaYA9bQX7p5h",
        "colab_type": "code",
        "colab": {}
      },
      "source": [
        "from tensorflow.keras.datasets import boston_housing"
      ],
      "execution_count": 1,
      "outputs": []
    },
    {
      "cell_type": "code",
      "metadata": {
        "id": "2L6XM3PbTHtg",
        "colab_type": "code",
        "colab": {
          "base_uri": "https://localhost:8080/",
          "height": 52
        },
        "outputId": "27e99fbe-bd2c-4b49-b39d-81cef48a58eb"
      },
      "source": [
        "(train_data, train_targets), (test_data, test_targets) =  boston_housing.load_data()"
      ],
      "execution_count": 2,
      "outputs": [
        {
          "output_type": "stream",
          "text": [
            "Downloading data from https://storage.googleapis.com/tensorflow/tf-keras-datasets/boston_housing.npz\n",
            "57344/57026 [==============================] - 0s 0us/step\n"
          ],
          "name": "stdout"
        }
      ]
    },
    {
      "cell_type": "code",
      "metadata": {
        "id": "xd4zlFN8EQRn",
        "colab_type": "code",
        "colab": {
          "base_uri": "https://localhost:8080/",
          "height": 52
        },
        "outputId": "1dd54d29-73f2-4e77-ad0e-4b15657902b3"
      },
      "source": [
        "print('train data shape:', train_data.shape)\n",
        "print('rest data shape:', test_data.shape)"
      ],
      "execution_count": 3,
      "outputs": [
        {
          "output_type": "stream",
          "text": [
            "train data shape: (404, 13)\n",
            "rest data shape: (102, 13)\n"
          ],
          "name": "stdout"
        }
      ]
    },
    {
      "cell_type": "code",
      "metadata": {
        "id": "9IfNfJJWTYcZ",
        "colab_type": "code",
        "colab": {
          "base_uri": "https://localhost:8080/",
          "height": 52
        },
        "outputId": "19712520-fec8-4e4b-d675-a2ae7b15e336"
      },
      "source": [
        "print(train_targets.shape)\n",
        "print(test_targets.shape)"
      ],
      "execution_count": 4,
      "outputs": [
        {
          "output_type": "stream",
          "text": [
            "(404,)\n",
            "(102,)\n"
          ],
          "name": "stdout"
        }
      ]
    },
    {
      "cell_type": "code",
      "metadata": {
        "id": "r9Jc68a5EkpH",
        "colab_type": "code",
        "colab": {
          "base_uri": "https://localhost:8080/",
          "height": 34
        },
        "outputId": "c42ab383-9520-4b3c-8d16-70734ffe618e"
      },
      "source": [
        "train_targets[0]"
      ],
      "execution_count": 5,
      "outputs": [
        {
          "output_type": "execute_result",
          "data": {
            "text/plain": [
              "15.2"
            ]
          },
          "metadata": {
            "tags": []
          },
          "execution_count": 5
        }
      ]
    },
    {
      "cell_type": "code",
      "metadata": {
        "id": "LQrsGmS8EnL_",
        "colab_type": "code",
        "colab": {}
      },
      "source": [
        "mean = train_data.mean(axis=0)\n",
        "std = train_data.std(axis=0)\n",
        "train_data = (train_data - mean)/std\n",
        "\n",
        "test_data = (test_data - mean)/std"
      ],
      "execution_count": 6,
      "outputs": []
    },
    {
      "cell_type": "code",
      "metadata": {
        "id": "L1tziJU8uH5x",
        "colab_type": "code",
        "colab": {}
      },
      "source": [
        "from tensorflow.keras import models, layers"
      ],
      "execution_count": 7,
      "outputs": []
    },
    {
      "cell_type": "code",
      "metadata": {
        "id": "Ap0bE4hXErI3",
        "colab_type": "code",
        "colab": {}
      },
      "source": [
        "model = models.Sequential()\n",
        "model.add(layers.Dense(64, activation='relu',\n",
        "                           input_shape=(train_data.shape[1],)))\n",
        "model.add(layers.Dense(64, activation='relu'))\n",
        "model.add(layers.Dense(1))"
      ],
      "execution_count": 8,
      "outputs": []
    },
    {
      "cell_type": "code",
      "metadata": {
        "id": "ukB24PBeHa0Z",
        "colab_type": "code",
        "colab": {
          "base_uri": "https://localhost:8080/",
          "height": 263
        },
        "outputId": "7a13608b-b819-43c7-fe8c-30a31471a282"
      },
      "source": [
        "model.summary()"
      ],
      "execution_count": 9,
      "outputs": [
        {
          "output_type": "stream",
          "text": [
            "Model: \"sequential\"\n",
            "_________________________________________________________________\n",
            "Layer (type)                 Output Shape              Param #   \n",
            "=================================================================\n",
            "dense (Dense)                (None, 64)                896       \n",
            "_________________________________________________________________\n",
            "dense_1 (Dense)              (None, 64)                4160      \n",
            "_________________________________________________________________\n",
            "dense_2 (Dense)              (None, 1)                 65        \n",
            "=================================================================\n",
            "Total params: 5,121\n",
            "Trainable params: 5,121\n",
            "Non-trainable params: 0\n",
            "_________________________________________________________________\n"
          ],
          "name": "stdout"
        }
      ]
    },
    {
      "cell_type": "code",
      "metadata": {
        "id": "TwYxvTN8Ey5v",
        "colab_type": "code",
        "colab": {}
      },
      "source": [
        "model.compile(optimizer='rmsprop',\n",
        "              loss='mse',\n",
        "              metrics=['mae'])"
      ],
      "execution_count": 10,
      "outputs": []
    },
    {
      "cell_type": "code",
      "metadata": {
        "id": "m1YzbzNBFBWm",
        "colab_type": "code",
        "colab": {
          "base_uri": "https://localhost:8080/",
          "height": 1000
        },
        "outputId": "a81d2763-a502-419e-a9c3-cb0f76165f07"
      },
      "source": [
        "history = model.fit(train_data, train_targets,\n",
        "                    epochs=100,\n",
        "                    batch_size=1,\n",
        "                    validation_split=0.2)"
      ],
      "execution_count": 11,
      "outputs": [
        {
          "output_type": "stream",
          "text": [
            "Epoch 1/100\n",
            "323/323 [==============================] - 0s 1ms/step - loss: 204.2320 - mae: 10.4306 - val_loss: 51.8899 - val_mae: 5.0350\n",
            "Epoch 2/100\n",
            "323/323 [==============================] - 0s 1ms/step - loss: 29.8777 - mae: 3.6240 - val_loss: 23.9180 - val_mae: 3.2252\n",
            "Epoch 3/100\n",
            "323/323 [==============================] - 0s 1ms/step - loss: 19.9060 - mae: 2.8885 - val_loss: 16.3358 - val_mae: 3.1319\n",
            "Epoch 4/100\n",
            "323/323 [==============================] - 0s 1ms/step - loss: 16.2655 - mae: 2.7149 - val_loss: 12.9841 - val_mae: 2.6285\n",
            "Epoch 5/100\n",
            "323/323 [==============================] - 0s 1ms/step - loss: 14.7263 - mae: 2.5481 - val_loss: 11.7099 - val_mae: 2.5627\n",
            "Epoch 6/100\n",
            "323/323 [==============================] - 0s 994us/step - loss: 13.7926 - mae: 2.4331 - val_loss: 12.3028 - val_mae: 2.6967\n",
            "Epoch 7/100\n",
            "323/323 [==============================] - 0s 1ms/step - loss: 12.5305 - mae: 2.3727 - val_loss: 12.0147 - val_mae: 2.7402\n",
            "Epoch 8/100\n",
            "323/323 [==============================] - 0s 1ms/step - loss: 12.6380 - mae: 2.2939 - val_loss: 10.9591 - val_mae: 2.5894\n",
            "Epoch 9/100\n",
            "323/323 [==============================] - 0s 943us/step - loss: 11.7552 - mae: 2.2831 - val_loss: 11.0729 - val_mae: 2.5855\n",
            "Epoch 10/100\n",
            "323/323 [==============================] - 0s 1ms/step - loss: 11.3651 - mae: 2.2485 - val_loss: 11.6020 - val_mae: 2.7404\n",
            "Epoch 11/100\n",
            "323/323 [==============================] - 0s 914us/step - loss: 10.8521 - mae: 2.0883 - val_loss: 11.0079 - val_mae: 2.5124\n",
            "Epoch 12/100\n",
            "323/323 [==============================] - 0s 965us/step - loss: 10.6730 - mae: 2.1257 - val_loss: 10.4744 - val_mae: 2.4033\n",
            "Epoch 13/100\n",
            "323/323 [==============================] - 0s 1ms/step - loss: 9.5928 - mae: 2.1271 - val_loss: 11.2476 - val_mae: 2.5027\n",
            "Epoch 14/100\n",
            "323/323 [==============================] - 0s 1ms/step - loss: 10.0109 - mae: 2.0826 - val_loss: 10.6226 - val_mae: 2.5804\n",
            "Epoch 15/100\n",
            "323/323 [==============================] - 0s 1ms/step - loss: 9.4698 - mae: 2.0274 - val_loss: 11.4747 - val_mae: 2.5545\n",
            "Epoch 16/100\n",
            "323/323 [==============================] - 0s 998us/step - loss: 9.6595 - mae: 2.0319 - val_loss: 11.5951 - val_mae: 2.4640\n",
            "Epoch 17/100\n",
            "323/323 [==============================] - 0s 942us/step - loss: 9.1595 - mae: 2.0169 - val_loss: 11.1231 - val_mae: 2.4013\n",
            "Epoch 18/100\n",
            "323/323 [==============================] - 0s 938us/step - loss: 9.3529 - mae: 1.9298 - val_loss: 11.2405 - val_mae: 2.5573\n",
            "Epoch 19/100\n",
            "323/323 [==============================] - 0s 957us/step - loss: 8.7811 - mae: 1.9886 - val_loss: 9.5771 - val_mae: 2.3607\n",
            "Epoch 20/100\n",
            "323/323 [==============================] - 0s 954us/step - loss: 8.8435 - mae: 1.9725 - val_loss: 11.0776 - val_mae: 2.5264\n",
            "Epoch 21/100\n",
            "323/323 [==============================] - 0s 935us/step - loss: 8.7263 - mae: 1.9759 - val_loss: 11.8895 - val_mae: 2.5466\n",
            "Epoch 22/100\n",
            "323/323 [==============================] - 0s 997us/step - loss: 8.6340 - mae: 1.9479 - val_loss: 11.2628 - val_mae: 2.6128\n",
            "Epoch 23/100\n",
            "323/323 [==============================] - 0s 931us/step - loss: 8.2029 - mae: 1.8809 - val_loss: 11.8905 - val_mae: 2.4362\n",
            "Epoch 24/100\n",
            "323/323 [==============================] - 0s 1ms/step - loss: 8.1655 - mae: 1.8955 - val_loss: 12.7345 - val_mae: 2.5517\n",
            "Epoch 25/100\n",
            "323/323 [==============================] - 0s 997us/step - loss: 7.7249 - mae: 1.8732 - val_loss: 12.8476 - val_mae: 2.6046\n",
            "Epoch 26/100\n",
            "323/323 [==============================] - 0s 1ms/step - loss: 8.1188 - mae: 1.8531 - val_loss: 10.6439 - val_mae: 2.5118\n",
            "Epoch 27/100\n",
            "323/323 [==============================] - 0s 1ms/step - loss: 8.0192 - mae: 1.8642 - val_loss: 12.1193 - val_mae: 2.6364\n",
            "Epoch 28/100\n",
            "323/323 [==============================] - 0s 1ms/step - loss: 7.7430 - mae: 1.7747 - val_loss: 10.3308 - val_mae: 2.2952\n",
            "Epoch 29/100\n",
            "323/323 [==============================] - 0s 955us/step - loss: 7.2802 - mae: 1.7648 - val_loss: 9.9169 - val_mae: 2.2756\n",
            "Epoch 30/100\n",
            "323/323 [==============================] - 0s 985us/step - loss: 7.1349 - mae: 1.7921 - val_loss: 10.8399 - val_mae: 2.4010\n",
            "Epoch 31/100\n",
            "323/323 [==============================] - 0s 984us/step - loss: 7.3580 - mae: 1.8199 - val_loss: 12.8269 - val_mae: 2.5462\n",
            "Epoch 32/100\n",
            "323/323 [==============================] - 0s 940us/step - loss: 7.1375 - mae: 1.8448 - val_loss: 12.2510 - val_mae: 2.3665\n",
            "Epoch 33/100\n",
            "323/323 [==============================] - 0s 1ms/step - loss: 6.7955 - mae: 1.7519 - val_loss: 12.2288 - val_mae: 2.4616\n",
            "Epoch 34/100\n",
            "323/323 [==============================] - 0s 1ms/step - loss: 6.6915 - mae: 1.7593 - val_loss: 13.0349 - val_mae: 2.5057\n",
            "Epoch 35/100\n",
            "323/323 [==============================] - 0s 953us/step - loss: 6.7553 - mae: 1.7859 - val_loss: 11.3888 - val_mae: 2.4001\n",
            "Epoch 36/100\n",
            "323/323 [==============================] - 0s 929us/step - loss: 6.6757 - mae: 1.6760 - val_loss: 11.6730 - val_mae: 2.4024\n",
            "Epoch 37/100\n",
            "323/323 [==============================] - 0s 970us/step - loss: 7.2196 - mae: 1.7416 - val_loss: 11.0313 - val_mae: 2.3552\n",
            "Epoch 38/100\n",
            "323/323 [==============================] - 0s 957us/step - loss: 6.5155 - mae: 1.6989 - val_loss: 10.9383 - val_mae: 2.3394\n",
            "Epoch 39/100\n",
            "323/323 [==============================] - 0s 917us/step - loss: 6.3958 - mae: 1.7140 - val_loss: 14.7815 - val_mae: 2.7193\n",
            "Epoch 40/100\n",
            "323/323 [==============================] - 0s 923us/step - loss: 6.3991 - mae: 1.6778 - val_loss: 11.4550 - val_mae: 2.4710\n",
            "Epoch 41/100\n",
            "323/323 [==============================] - 0s 969us/step - loss: 6.6231 - mae: 1.7204 - val_loss: 12.5551 - val_mae: 2.6705\n",
            "Epoch 42/100\n",
            "323/323 [==============================] - 0s 971us/step - loss: 6.2055 - mae: 1.6947 - val_loss: 13.1531 - val_mae: 2.4462\n",
            "Epoch 43/100\n",
            "323/323 [==============================] - 0s 973us/step - loss: 6.3641 - mae: 1.7173 - val_loss: 11.5697 - val_mae: 2.4140\n",
            "Epoch 44/100\n",
            "323/323 [==============================] - 0s 1000us/step - loss: 6.1701 - mae: 1.6703 - val_loss: 12.8376 - val_mae: 2.3742\n",
            "Epoch 45/100\n",
            "323/323 [==============================] - 0s 938us/step - loss: 6.1136 - mae: 1.6409 - val_loss: 15.5982 - val_mae: 2.8280\n",
            "Epoch 46/100\n",
            "323/323 [==============================] - 0s 955us/step - loss: 5.9869 - mae: 1.6456 - val_loss: 12.4551 - val_mae: 2.3770\n",
            "Epoch 47/100\n",
            "323/323 [==============================] - 0s 1ms/step - loss: 6.1743 - mae: 1.6243 - val_loss: 14.9448 - val_mae: 2.7123\n",
            "Epoch 48/100\n",
            "323/323 [==============================] - 0s 1ms/step - loss: 6.3392 - mae: 1.6824 - val_loss: 11.7101 - val_mae: 2.3260\n",
            "Epoch 49/100\n",
            "323/323 [==============================] - 0s 997us/step - loss: 6.1278 - mae: 1.6270 - val_loss: 14.1855 - val_mae: 2.4158\n",
            "Epoch 50/100\n",
            "323/323 [==============================] - 0s 970us/step - loss: 5.6541 - mae: 1.6523 - val_loss: 12.7576 - val_mae: 2.5690\n",
            "Epoch 51/100\n",
            "323/323 [==============================] - 0s 911us/step - loss: 6.2544 - mae: 1.6362 - val_loss: 11.4210 - val_mae: 2.3946\n",
            "Epoch 52/100\n",
            "323/323 [==============================] - 0s 941us/step - loss: 5.6638 - mae: 1.6109 - val_loss: 12.7761 - val_mae: 2.4354\n",
            "Epoch 53/100\n",
            "323/323 [==============================] - 0s 936us/step - loss: 5.6719 - mae: 1.6497 - val_loss: 14.3564 - val_mae: 2.8762\n",
            "Epoch 54/100\n",
            "323/323 [==============================] - 0s 978us/step - loss: 5.6051 - mae: 1.6423 - val_loss: 13.1388 - val_mae: 2.5690\n",
            "Epoch 55/100\n",
            "323/323 [==============================] - 0s 919us/step - loss: 5.3270 - mae: 1.5618 - val_loss: 12.4233 - val_mae: 2.3749\n",
            "Epoch 56/100\n",
            "323/323 [==============================] - 0s 994us/step - loss: 5.5896 - mae: 1.5844 - val_loss: 14.7564 - val_mae: 2.6338\n",
            "Epoch 57/100\n",
            "323/323 [==============================] - 0s 1ms/step - loss: 5.6532 - mae: 1.5550 - val_loss: 11.7323 - val_mae: 2.3254\n",
            "Epoch 58/100\n",
            "323/323 [==============================] - 0s 1ms/step - loss: 5.7000 - mae: 1.4705 - val_loss: 13.8409 - val_mae: 2.5562\n",
            "Epoch 59/100\n",
            "323/323 [==============================] - 0s 935us/step - loss: 5.4415 - mae: 1.5601 - val_loss: 13.0270 - val_mae: 2.5235\n",
            "Epoch 60/100\n",
            "323/323 [==============================] - 0s 983us/step - loss: 5.2062 - mae: 1.5227 - val_loss: 14.1235 - val_mae: 2.4483\n",
            "Epoch 61/100\n",
            "323/323 [==============================] - 0s 940us/step - loss: 5.3303 - mae: 1.5363 - val_loss: 11.7652 - val_mae: 2.3386\n",
            "Epoch 62/100\n",
            "323/323 [==============================] - 0s 990us/step - loss: 5.4204 - mae: 1.5386 - val_loss: 13.9912 - val_mae: 2.4997\n",
            "Epoch 63/100\n",
            "323/323 [==============================] - 0s 993us/step - loss: 5.4460 - mae: 1.5205 - val_loss: 14.9894 - val_mae: 2.5002\n",
            "Epoch 64/100\n",
            "323/323 [==============================] - 0s 983us/step - loss: 4.9593 - mae: 1.4704 - val_loss: 11.4197 - val_mae: 2.3021\n",
            "Epoch 65/100\n",
            "323/323 [==============================] - 0s 957us/step - loss: 5.2708 - mae: 1.5089 - val_loss: 13.6877 - val_mae: 2.6324\n",
            "Epoch 66/100\n",
            "323/323 [==============================] - 0s 987us/step - loss: 5.4270 - mae: 1.5375 - val_loss: 14.3267 - val_mae: 2.3999\n",
            "Epoch 67/100\n",
            "323/323 [==============================] - 0s 954us/step - loss: 4.9152 - mae: 1.4927 - val_loss: 13.4484 - val_mae: 2.3981\n",
            "Epoch 68/100\n",
            "323/323 [==============================] - 0s 1ms/step - loss: 5.1097 - mae: 1.4591 - val_loss: 12.7328 - val_mae: 2.3950\n",
            "Epoch 69/100\n",
            "323/323 [==============================] - 0s 1ms/step - loss: 5.1207 - mae: 1.4975 - val_loss: 14.9842 - val_mae: 2.5330\n",
            "Epoch 70/100\n",
            "323/323 [==============================] - 0s 1ms/step - loss: 5.0339 - mae: 1.5212 - val_loss: 12.3035 - val_mae: 2.4561\n",
            "Epoch 71/100\n",
            "323/323 [==============================] - 0s 977us/step - loss: 4.8389 - mae: 1.4198 - val_loss: 12.5652 - val_mae: 2.4372\n",
            "Epoch 72/100\n",
            "323/323 [==============================] - 0s 955us/step - loss: 5.1292 - mae: 1.4726 - val_loss: 16.3581 - val_mae: 2.6587\n",
            "Epoch 73/100\n",
            "323/323 [==============================] - 0s 940us/step - loss: 4.7822 - mae: 1.4496 - val_loss: 13.8798 - val_mae: 2.5403\n",
            "Epoch 74/100\n",
            "323/323 [==============================] - 0s 947us/step - loss: 4.3696 - mae: 1.4521 - val_loss: 13.4398 - val_mae: 2.4727\n",
            "Epoch 75/100\n",
            "323/323 [==============================] - 0s 977us/step - loss: 4.5027 - mae: 1.4429 - val_loss: 14.2845 - val_mae: 2.4732\n",
            "Epoch 76/100\n",
            "323/323 [==============================] - 0s 941us/step - loss: 4.9487 - mae: 1.4832 - val_loss: 13.0495 - val_mae: 2.3440\n",
            "Epoch 77/100\n",
            "323/323 [==============================] - 0s 954us/step - loss: 4.7501 - mae: 1.4383 - val_loss: 13.2571 - val_mae: 2.6044\n",
            "Epoch 78/100\n",
            "323/323 [==============================] - 0s 937us/step - loss: 4.6069 - mae: 1.4476 - val_loss: 14.0067 - val_mae: 2.5645\n",
            "Epoch 79/100\n",
            "323/323 [==============================] - 0s 975us/step - loss: 4.6623 - mae: 1.4383 - val_loss: 14.2472 - val_mae: 2.6036\n",
            "Epoch 80/100\n",
            "323/323 [==============================] - 0s 1ms/step - loss: 4.5456 - mae: 1.4365 - val_loss: 13.5927 - val_mae: 2.5008\n",
            "Epoch 81/100\n",
            "323/323 [==============================] - 0s 997us/step - loss: 4.4874 - mae: 1.4084 - val_loss: 13.8711 - val_mae: 2.3944\n",
            "Epoch 82/100\n",
            "323/323 [==============================] - 0s 990us/step - loss: 4.8146 - mae: 1.4061 - val_loss: 12.0236 - val_mae: 2.4022\n",
            "Epoch 83/100\n",
            "323/323 [==============================] - 0s 948us/step - loss: 4.5316 - mae: 1.4127 - val_loss: 14.1700 - val_mae: 2.7146\n",
            "Epoch 84/100\n",
            "323/323 [==============================] - 0s 1ms/step - loss: 4.2207 - mae: 1.3985 - val_loss: 16.2368 - val_mae: 2.6786\n",
            "Epoch 85/100\n",
            "323/323 [==============================] - 0s 980us/step - loss: 4.2544 - mae: 1.3438 - val_loss: 14.1891 - val_mae: 2.4522\n",
            "Epoch 86/100\n",
            "323/323 [==============================] - 0s 958us/step - loss: 4.1378 - mae: 1.4065 - val_loss: 13.6925 - val_mae: 2.4251\n",
            "Epoch 87/100\n",
            "323/323 [==============================] - 0s 1ms/step - loss: 4.4327 - mae: 1.4295 - val_loss: 12.1589 - val_mae: 2.3038\n",
            "Epoch 88/100\n",
            "323/323 [==============================] - 0s 954us/step - loss: 4.3114 - mae: 1.3856 - val_loss: 13.2736 - val_mae: 2.2970\n",
            "Epoch 89/100\n",
            "323/323 [==============================] - 0s 1ms/step - loss: 4.3148 - mae: 1.3838 - val_loss: 14.7373 - val_mae: 2.5350\n",
            "Epoch 90/100\n",
            "323/323 [==============================] - 0s 971us/step - loss: 4.1745 - mae: 1.3775 - val_loss: 12.6969 - val_mae: 2.6475\n",
            "Epoch 91/100\n",
            "323/323 [==============================] - 0s 1ms/step - loss: 3.9820 - mae: 1.3285 - val_loss: 12.1872 - val_mae: 2.4862\n",
            "Epoch 92/100\n",
            "323/323 [==============================] - 0s 1ms/step - loss: 4.3038 - mae: 1.3738 - val_loss: 13.0392 - val_mae: 2.6832\n",
            "Epoch 93/100\n",
            "323/323 [==============================] - 0s 1ms/step - loss: 4.2374 - mae: 1.4035 - val_loss: 13.0495 - val_mae: 2.5523\n",
            "Epoch 94/100\n",
            "323/323 [==============================] - 0s 1ms/step - loss: 4.2653 - mae: 1.3328 - val_loss: 13.1920 - val_mae: 2.5986\n",
            "Epoch 95/100\n",
            "323/323 [==============================] - 0s 1ms/step - loss: 3.9377 - mae: 1.3406 - val_loss: 13.0724 - val_mae: 2.4221\n",
            "Epoch 96/100\n",
            "323/323 [==============================] - 0s 1ms/step - loss: 3.9672 - mae: 1.3375 - val_loss: 14.3436 - val_mae: 2.6048\n",
            "Epoch 97/100\n",
            "323/323 [==============================] - 0s 1ms/step - loss: 4.1287 - mae: 1.4211 - val_loss: 13.8930 - val_mae: 2.4689\n",
            "Epoch 98/100\n",
            "323/323 [==============================] - 0s 1ms/step - loss: 4.2263 - mae: 1.3126 - val_loss: 12.8200 - val_mae: 2.4842\n",
            "Epoch 99/100\n",
            "323/323 [==============================] - 0s 1ms/step - loss: 4.1426 - mae: 1.3879 - val_loss: 12.7905 - val_mae: 2.3331\n",
            "Epoch 100/100\n",
            "323/323 [==============================] - 0s 1ms/step - loss: 3.9125 - mae: 1.3673 - val_loss: 13.1549 - val_mae: 2.3694\n"
          ],
          "name": "stdout"
        }
      ]
    },
    {
      "cell_type": "code",
      "metadata": {
        "id": "muyntjXlFeA_",
        "colab_type": "code",
        "colab": {}
      },
      "source": [
        "mae = history.history['mae']\n",
        "val_mae = history.history['val_mae']\n",
        "\n",
        "loss = history.history['loss']\n",
        "val_loss = history.history['val_loss']\n",
        "\n",
        "epochs = range(len(mae))"
      ],
      "execution_count": 12,
      "outputs": []
    },
    {
      "cell_type": "code",
      "metadata": {
        "id": "6HgFd1nbHXZl",
        "colab_type": "code",
        "colab": {}
      },
      "source": [
        "import matplotlib.pyplot as plt"
      ],
      "execution_count": 13,
      "outputs": []
    },
    {
      "cell_type": "code",
      "metadata": {
        "id": "BFT9uOuiHgyU",
        "colab_type": "code",
        "colab": {
          "base_uri": "https://localhost:8080/",
          "height": 281
        },
        "outputId": "acfada6b-8a72-47a4-b466-6791df34beb5"
      },
      "source": [
        "plt.plot(epochs, mae, 'bo', label='Training mae')\n",
        "plt.plot(epochs, val_mae, 'b', label='Validation mae')\n",
        "plt.title('Training and validation mae')\n",
        "plt.legend()\n",
        "\n",
        "plt.show()"
      ],
      "execution_count": 14,
      "outputs": [
        {
          "output_type": "display_data",
          "data": {
            "image/png": "[encoded data removed]",
            "text/plain": [
              "<Figure size 432x288 with 1 Axes>"
            ]
          },
          "metadata": {
            "tags": [],
            "needs_background": "light"
          }
        }
      ]
    },
    {
      "cell_type": "code",
      "metadata": {
        "id": "rLD8kGX2HkCt",
        "colab_type": "code",
        "colab": {
          "base_uri": "https://localhost:8080/",
          "height": 281
        },
        "outputId": "6e424fe5-28e9-4ef4-b199-cc8ff3b001fd"
      },
      "source": [
        "plt.plot(epochs, loss, 'bo', label='Training loss')\n",
        "plt.plot(epochs, val_loss, 'b', label='Validation loss')\n",
        "plt.title('Training and validation loss')\n",
        "plt.legend()\n",
        "\n",
        "plt.show()"
      ],
      "execution_count": 15,
      "outputs": [
        {
          "output_type": "display_data",
          "data": {
            "image/png": "[encoded data removed]",
            "text/plain": [
              "<Figure size 432x288 with 1 Axes>"
            ]
          },
          "metadata": {
            "tags": [],
            "needs_background": "light"
          }
        }
      ]
    },
    {
      "cell_type": "code",
      "metadata": {
        "id": "SrXe1ol7Hs_N",
        "colab_type": "code",
        "colab": {
          "base_uri": "https://localhost:8080/",
          "height": 279
        },
        "outputId": "555f273c-daab-4225-8c01-d87d25da35d0"
      },
      "source": [
        "def smooth_curve(points, factor=0.9):\n",
        "  smoothed_points = []\n",
        "  for point in points:\n",
        "    if smoothed_points:\n",
        "      previous = smoothed_points[-1]\n",
        "      smoothed_points.append(previous * factor + point * (1 - factor))\n",
        "    else:\n",
        "      smoothed_points.append(point)\n",
        "  return smoothed_points\n",
        "\n",
        "smooth_mae_history = smooth_curve(val_mae[10:])\n",
        "\n",
        "plt.plot(range(1, len(smooth_mae_history) + 1), smooth_mae_history)\n",
        "plt.xlabel('Epochs')\n",
        "plt.ylabel('Validation MAE')\n",
        "plt.show()"
      ],
      "execution_count": 16,
      "outputs": [
        {
          "output_type": "display_data",
          "data": {
            "image/png": "[encoded data removed]",
            "text/plain": [
              "<Figure size 432x288 with 1 Axes>"
            ]
          },
          "metadata": {
            "tags": [],
            "needs_background": "light"
          }
        }
      ]
    },
    {
      "cell_type": "code",
      "metadata": {
        "id": "-hrz--f9IEoU",
        "colab_type": "code",
        "colab": {
          "base_uri": "https://localhost:8080/",
          "height": 34
        },
        "outputId": "d90a6b59-7249-4eda-96b9-33ce612fd1cb"
      },
      "source": [
        "test_mse_score, test_mae_score = model.evaluate(test_data, test_targets)"
      ],
      "execution_count": 17,
      "outputs": [
        {
          "output_type": "stream",
          "text": [
            "4/4 [==============================] - 0s 2ms/step - loss: 15.9086 - mae: 2.7296\n"
          ],
          "name": "stdout"
        }
      ]
    },
    {
      "cell_type": "code",
      "metadata": {
        "id": "dIFU8_A59nFy",
        "colab_type": "code",
        "colab": {}
      },
      "source": [
        "from tensorflow.keras import regularizers\n",
        "\n",
        "model2 = models.Sequential()\n",
        "model2.add(layers.Dense(64, activation='relu',\n",
        "                        kernel_regularizer=regularizers.l2(0.001),\n",
        "                        input_shape=(train_data.shape[1],)))\n",
        "model2.add(layers.Dense(64, activation='relu',\n",
        "                        kernel_regularizer=regularizers.l2(0.001)))\n",
        "model2.add(layers.Dense(1))"
      ],
      "execution_count": 18,
      "outputs": []
    },
    {
      "cell_type": "code",
      "metadata": {
        "id": "0yV0gLA4-g7w",
        "colab_type": "code",
        "colab": {}
      },
      "source": [
        "model2.compile(optimizer='rmsprop', loss='mse', metrics=['mae'])"
      ],
      "execution_count": 19,
      "outputs": []
    },
    {
      "cell_type": "code",
      "metadata": {
        "id": "7khfaORM-pHl",
        "colab_type": "code",
        "colab": {
          "base_uri": "https://localhost:8080/",
          "height": 1000
        },
        "outputId": "8671a95d-42e2-4487-f071-493a4e3897e0"
      },
      "source": [
        "history = model2.fit(train_data, train_targets,\n",
        "                     epochs=100,\n",
        "                     batch_size=1,\n",
        "                     validation_split=0.2)"
      ],
      "execution_count": 20,
      "outputs": [
        {
          "output_type": "stream",
          "text": [
            "Epoch 1/100\n",
            "323/323 [==============================] - 1s 2ms/step - loss: 181.7962 - mae: 10.2381 - val_loss: 61.5191 - val_mae: 5.2196\n",
            "Epoch 2/100\n",
            "323/323 [==============================] - 0s 1ms/step - loss: 31.4221 - mae: 3.6919 - val_loss: 27.4834 - val_mae: 3.3761\n",
            "Epoch 3/100\n",
            "323/323 [==============================] - 0s 1ms/step - loss: 20.4426 - mae: 2.8817 - val_loss: 23.8536 - val_mae: 3.6519\n",
            "Epoch 4/100\n",
            "323/323 [==============================] - 0s 1ms/step - loss: 17.5943 - mae: 2.6486 - val_loss: 15.9732 - val_mae: 2.7634\n",
            "Epoch 5/100\n",
            "323/323 [==============================] - 0s 1ms/step - loss: 15.9914 - mae: 2.4777 - val_loss: 13.9657 - val_mae: 2.7183\n",
            "Epoch 6/100\n",
            "323/323 [==============================] - 0s 990us/step - loss: 14.4880 - mae: 2.4014 - val_loss: 13.3645 - val_mae: 2.6820\n",
            "Epoch 7/100\n",
            "323/323 [==============================] - 0s 1ms/step - loss: 13.3015 - mae: 2.4204 - val_loss: 13.2396 - val_mae: 2.7770\n",
            "Epoch 8/100\n",
            "323/323 [==============================] - 0s 1ms/step - loss: 12.4780 - mae: 2.2629 - val_loss: 11.8375 - val_mae: 2.5396\n",
            "Epoch 9/100\n",
            "323/323 [==============================] - 0s 986us/step - loss: 12.1389 - mae: 2.2150 - val_loss: 11.8881 - val_mae: 2.5762\n",
            "Epoch 10/100\n",
            "323/323 [==============================] - 0s 949us/step - loss: 11.5451 - mae: 2.1817 - val_loss: 12.0075 - val_mae: 2.5840\n",
            "Epoch 11/100\n",
            "323/323 [==============================] - 0s 1ms/step - loss: 11.0171 - mae: 2.1449 - val_loss: 12.1569 - val_mae: 2.6116\n",
            "Epoch 12/100\n",
            "323/323 [==============================] - 0s 962us/step - loss: 11.0676 - mae: 2.1248 - val_loss: 11.0561 - val_mae: 2.4702\n",
            "Epoch 13/100\n",
            "323/323 [==============================] - 0s 1ms/step - loss: 10.2732 - mae: 2.0510 - val_loss: 12.5808 - val_mae: 2.7016\n",
            "Epoch 14/100\n",
            "323/323 [==============================] - 0s 1ms/step - loss: 9.7129 - mae: 2.1146 - val_loss: 11.0914 - val_mae: 2.5568\n",
            "Epoch 15/100\n",
            "323/323 [==============================] - 0s 1ms/step - loss: 9.9108 - mae: 2.0473 - val_loss: 12.1070 - val_mae: 2.3935\n",
            "Epoch 16/100\n",
            "323/323 [==============================] - 0s 1ms/step - loss: 9.9557 - mae: 2.0566 - val_loss: 11.5075 - val_mae: 2.4221\n",
            "Epoch 17/100\n",
            "323/323 [==============================] - 0s 999us/step - loss: 9.0989 - mae: 1.9768 - val_loss: 11.8904 - val_mae: 2.4549\n",
            "Epoch 18/100\n",
            "323/323 [==============================] - 0s 989us/step - loss: 9.3937 - mae: 1.9742 - val_loss: 11.5326 - val_mae: 2.4769\n",
            "Epoch 19/100\n",
            "323/323 [==============================] - 0s 979us/step - loss: 8.7308 - mae: 1.9248 - val_loss: 12.3109 - val_mae: 2.4737\n",
            "Epoch 20/100\n",
            "323/323 [==============================] - 0s 1ms/step - loss: 8.7957 - mae: 1.9423 - val_loss: 11.7264 - val_mae: 2.4611\n",
            "Epoch 21/100\n",
            "323/323 [==============================] - 0s 980us/step - loss: 8.6686 - mae: 1.8985 - val_loss: 16.6275 - val_mae: 2.9160\n",
            "Epoch 22/100\n",
            "323/323 [==============================] - 0s 1ms/step - loss: 8.1109 - mae: 1.8321 - val_loss: 12.8129 - val_mae: 2.5771\n",
            "Epoch 23/100\n",
            "323/323 [==============================] - 0s 993us/step - loss: 8.3687 - mae: 1.9005 - val_loss: 11.1123 - val_mae: 2.3901\n",
            "Epoch 24/100\n",
            "323/323 [==============================] - 0s 1ms/step - loss: 7.8168 - mae: 1.8347 - val_loss: 13.6254 - val_mae: 2.7963\n",
            "Epoch 25/100\n",
            "323/323 [==============================] - 0s 981us/step - loss: 8.0953 - mae: 1.8046 - val_loss: 14.1425 - val_mae: 2.6266\n",
            "Epoch 26/100\n",
            "323/323 [==============================] - 0s 997us/step - loss: 7.6478 - mae: 1.8622 - val_loss: 13.6997 - val_mae: 2.4482\n",
            "Epoch 27/100\n",
            "323/323 [==============================] - 0s 956us/step - loss: 7.6684 - mae: 1.8442 - val_loss: 11.9345 - val_mae: 2.6386\n",
            "Epoch 28/100\n",
            "323/323 [==============================] - 0s 1ms/step - loss: 7.6499 - mae: 1.7977 - val_loss: 15.6584 - val_mae: 2.6431\n",
            "Epoch 29/100\n",
            "323/323 [==============================] - 0s 984us/step - loss: 7.5289 - mae: 1.7582 - val_loss: 11.4379 - val_mae: 2.5069\n",
            "Epoch 30/100\n",
            "323/323 [==============================] - 0s 983us/step - loss: 7.4591 - mae: 1.7611 - val_loss: 13.6221 - val_mae: 2.4321\n",
            "Epoch 31/100\n",
            "323/323 [==============================] - 0s 1ms/step - loss: 7.2565 - mae: 1.7007 - val_loss: 14.7285 - val_mae: 2.7715\n",
            "Epoch 32/100\n",
            "323/323 [==============================] - 0s 961us/step - loss: 7.5007 - mae: 1.7839 - val_loss: 12.5478 - val_mae: 2.4393\n",
            "Epoch 33/100\n",
            "323/323 [==============================] - 0s 944us/step - loss: 7.0232 - mae: 1.6807 - val_loss: 12.4634 - val_mae: 2.5781\n",
            "Epoch 34/100\n",
            "323/323 [==============================] - 0s 970us/step - loss: 7.5865 - mae: 1.7431 - val_loss: 12.5716 - val_mae: 2.4033\n",
            "Epoch 35/100\n",
            "323/323 [==============================] - 0s 952us/step - loss: 7.0073 - mae: 1.7320 - val_loss: 18.9186 - val_mae: 2.7486\n",
            "Epoch 36/100\n",
            "323/323 [==============================] - 0s 1ms/step - loss: 6.9936 - mae: 1.7134 - val_loss: 13.2462 - val_mae: 2.4490\n",
            "Epoch 37/100\n",
            "323/323 [==============================] - 0s 989us/step - loss: 7.1797 - mae: 1.7129 - val_loss: 11.9291 - val_mae: 2.4607\n",
            "Epoch 38/100\n",
            "323/323 [==============================] - 0s 988us/step - loss: 6.8433 - mae: 1.6797 - val_loss: 11.7714 - val_mae: 2.2427\n",
            "Epoch 39/100\n",
            "323/323 [==============================] - 0s 999us/step - loss: 6.9433 - mae: 1.6910 - val_loss: 12.2829 - val_mae: 2.2609\n",
            "Epoch 40/100\n",
            "323/323 [==============================] - 0s 990us/step - loss: 6.8624 - mae: 1.6963 - val_loss: 11.7911 - val_mae: 2.2892\n",
            "Epoch 41/100\n",
            "323/323 [==============================] - 0s 1ms/step - loss: 6.4955 - mae: 1.6958 - val_loss: 15.1294 - val_mae: 2.5790\n",
            "Epoch 42/100\n",
            "323/323 [==============================] - 0s 984us/step - loss: 6.5953 - mae: 1.6567 - val_loss: 14.0163 - val_mae: 2.4657\n",
            "Epoch 43/100\n",
            "323/323 [==============================] - 0s 980us/step - loss: 6.8061 - mae: 1.6711 - val_loss: 13.5777 - val_mae: 2.3621\n",
            "Epoch 44/100\n",
            "323/323 [==============================] - 0s 996us/step - loss: 6.2576 - mae: 1.6411 - val_loss: 12.4472 - val_mae: 2.4313\n",
            "Epoch 45/100\n",
            "323/323 [==============================] - 0s 997us/step - loss: 6.6882 - mae: 1.6300 - val_loss: 12.7525 - val_mae: 2.3718\n",
            "Epoch 46/100\n",
            "323/323 [==============================] - 0s 944us/step - loss: 6.6209 - mae: 1.6570 - val_loss: 15.0402 - val_mae: 2.4884\n",
            "Epoch 47/100\n",
            "323/323 [==============================] - 0s 1ms/step - loss: 6.5703 - mae: 1.6681 - val_loss: 15.7571 - val_mae: 2.7057\n",
            "Epoch 48/100\n",
            "323/323 [==============================] - 0s 977us/step - loss: 5.9076 - mae: 1.5686 - val_loss: 13.6764 - val_mae: 2.4928\n",
            "Epoch 49/100\n",
            "323/323 [==============================] - 0s 968us/step - loss: 6.5016 - mae: 1.6508 - val_loss: 13.9665 - val_mae: 2.4531\n",
            "Epoch 50/100\n",
            "323/323 [==============================] - 0s 1ms/step - loss: 6.0563 - mae: 1.5910 - val_loss: 19.1157 - val_mae: 3.1718\n",
            "Epoch 51/100\n",
            "323/323 [==============================] - 0s 1ms/step - loss: 6.4451 - mae: 1.6370 - val_loss: 13.5738 - val_mae: 2.5835\n",
            "Epoch 52/100\n",
            "323/323 [==============================] - 0s 992us/step - loss: 6.2617 - mae: 1.6239 - val_loss: 14.9718 - val_mae: 2.7443\n",
            "Epoch 53/100\n",
            "323/323 [==============================] - 0s 1ms/step - loss: 6.0241 - mae: 1.5559 - val_loss: 12.8638 - val_mae: 2.5331\n",
            "Epoch 54/100\n",
            "323/323 [==============================] - 0s 1ms/step - loss: 5.8141 - mae: 1.5660 - val_loss: 13.3911 - val_mae: 2.4483\n",
            "Epoch 55/100\n",
            "323/323 [==============================] - 0s 950us/step - loss: 5.9239 - mae: 1.5853 - val_loss: 12.8139 - val_mae: 2.2932\n",
            "Epoch 56/100\n",
            "323/323 [==============================] - 0s 956us/step - loss: 5.9723 - mae: 1.5647 - val_loss: 14.2941 - val_mae: 2.3907\n",
            "Epoch 57/100\n",
            "323/323 [==============================] - 0s 1ms/step - loss: 6.1957 - mae: 1.5758 - val_loss: 13.8828 - val_mae: 2.3863\n",
            "Epoch 58/100\n",
            "323/323 [==============================] - 0s 996us/step - loss: 5.6516 - mae: 1.5592 - val_loss: 13.3081 - val_mae: 2.3792\n",
            "Epoch 59/100\n",
            "323/323 [==============================] - 0s 1ms/step - loss: 5.5575 - mae: 1.5189 - val_loss: 12.1545 - val_mae: 2.4099\n",
            "Epoch 60/100\n",
            "323/323 [==============================] - 0s 1ms/step - loss: 5.6947 - mae: 1.5269 - val_loss: 13.6040 - val_mae: 2.3809\n",
            "Epoch 61/100\n",
            "323/323 [==============================] - 0s 1ms/step - loss: 5.5000 - mae: 1.5083 - val_loss: 16.0962 - val_mae: 2.5895\n",
            "Epoch 62/100\n",
            "323/323 [==============================] - 0s 1ms/step - loss: 5.7219 - mae: 1.5482 - val_loss: 19.4188 - val_mae: 2.6526\n",
            "Epoch 63/100\n",
            "323/323 [==============================] - 0s 1ms/step - loss: 5.3208 - mae: 1.5062 - val_loss: 12.2119 - val_mae: 2.3257\n",
            "Epoch 64/100\n",
            "323/323 [==============================] - 0s 1ms/step - loss: 5.7451 - mae: 1.5052 - val_loss: 15.2423 - val_mae: 2.3459\n",
            "Epoch 65/100\n",
            "323/323 [==============================] - 0s 1ms/step - loss: 5.6304 - mae: 1.4857 - val_loss: 14.9830 - val_mae: 2.4095\n",
            "Epoch 66/100\n",
            "323/323 [==============================] - 0s 1ms/step - loss: 5.4192 - mae: 1.5487 - val_loss: 14.8777 - val_mae: 2.3387\n",
            "Epoch 67/100\n",
            "323/323 [==============================] - 0s 1ms/step - loss: 5.2486 - mae: 1.5065 - val_loss: 16.4788 - val_mae: 2.5879\n",
            "Epoch 68/100\n",
            "323/323 [==============================] - 0s 1ms/step - loss: 5.2032 - mae: 1.4932 - val_loss: 13.7153 - val_mae: 2.4222\n",
            "Epoch 69/100\n",
            "323/323 [==============================] - 0s 1ms/step - loss: 5.3920 - mae: 1.4340 - val_loss: 14.6865 - val_mae: 2.3749\n",
            "Epoch 70/100\n",
            "323/323 [==============================] - 0s 1ms/step - loss: 5.4191 - mae: 1.4801 - val_loss: 14.7738 - val_mae: 2.3794\n",
            "Epoch 71/100\n",
            "323/323 [==============================] - 0s 972us/step - loss: 5.0732 - mae: 1.4527 - val_loss: 11.8451 - val_mae: 2.3466\n",
            "Epoch 72/100\n",
            "323/323 [==============================] - 0s 945us/step - loss: 5.2061 - mae: 1.4662 - val_loss: 14.4897 - val_mae: 2.4744\n",
            "Epoch 73/100\n",
            "323/323 [==============================] - 0s 1ms/step - loss: 5.2903 - mae: 1.5111 - val_loss: 12.9115 - val_mae: 2.3198\n",
            "Epoch 74/100\n",
            "323/323 [==============================] - 0s 1ms/step - loss: 4.8842 - mae: 1.4475 - val_loss: 12.1377 - val_mae: 2.3982\n",
            "Epoch 75/100\n",
            "323/323 [==============================] - 0s 1ms/step - loss: 5.4207 - mae: 1.5069 - val_loss: 15.2321 - val_mae: 2.4361\n",
            "Epoch 76/100\n",
            "323/323 [==============================] - 0s 1ms/step - loss: 4.9691 - mae: 1.3933 - val_loss: 18.8127 - val_mae: 2.6812\n",
            "Epoch 77/100\n",
            "323/323 [==============================] - 0s 1ms/step - loss: 5.4293 - mae: 1.5043 - val_loss: 12.0887 - val_mae: 2.2207\n",
            "Epoch 78/100\n",
            "323/323 [==============================] - 0s 1ms/step - loss: 4.9940 - mae: 1.4496 - val_loss: 14.7065 - val_mae: 2.5278\n",
            "Epoch 79/100\n",
            "323/323 [==============================] - 0s 976us/step - loss: 5.0192 - mae: 1.4763 - val_loss: 15.2016 - val_mae: 2.3876\n",
            "Epoch 80/100\n",
            "323/323 [==============================] - 0s 974us/step - loss: 5.0785 - mae: 1.4112 - val_loss: 14.3551 - val_mae: 2.3515\n",
            "Epoch 81/100\n",
            "323/323 [==============================] - 0s 928us/step - loss: 4.7686 - mae: 1.3707 - val_loss: 14.3859 - val_mae: 2.4212\n",
            "Epoch 82/100\n",
            "323/323 [==============================] - 0s 924us/step - loss: 4.9661 - mae: 1.3931 - val_loss: 16.1478 - val_mae: 2.4809\n",
            "Epoch 83/100\n",
            "323/323 [==============================] - 0s 1ms/step - loss: 4.6255 - mae: 1.3842 - val_loss: 15.2282 - val_mae: 2.4586\n",
            "Epoch 84/100\n",
            "323/323 [==============================] - 0s 1ms/step - loss: 4.7554 - mae: 1.4354 - val_loss: 12.6535 - val_mae: 2.2789\n",
            "Epoch 85/100\n",
            "323/323 [==============================] - 0s 1ms/step - loss: 5.1069 - mae: 1.4059 - val_loss: 12.7938 - val_mae: 2.4778\n",
            "Epoch 86/100\n",
            "323/323 [==============================] - 0s 960us/step - loss: 4.9727 - mae: 1.3849 - val_loss: 13.8902 - val_mae: 2.3363\n",
            "Epoch 87/100\n",
            "323/323 [==============================] - 0s 990us/step - loss: 4.6584 - mae: 1.3629 - val_loss: 13.3592 - val_mae: 2.2691\n",
            "Epoch 88/100\n",
            "323/323 [==============================] - 0s 979us/step - loss: 4.8157 - mae: 1.3992 - val_loss: 14.6187 - val_mae: 2.4133\n",
            "Epoch 89/100\n",
            "323/323 [==============================] - 0s 999us/step - loss: 4.4793 - mae: 1.3918 - val_loss: 13.9169 - val_mae: 2.3521\n",
            "Epoch 90/100\n",
            "323/323 [==============================] - 0s 982us/step - loss: 4.8154 - mae: 1.4163 - val_loss: 18.8774 - val_mae: 2.8127\n",
            "Epoch 91/100\n",
            "323/323 [==============================] - 0s 1ms/step - loss: 4.5052 - mae: 1.3545 - val_loss: 13.7911 - val_mae: 2.4013\n",
            "Epoch 92/100\n",
            "323/323 [==============================] - 0s 1ms/step - loss: 4.7806 - mae: 1.3515 - val_loss: 14.8209 - val_mae: 2.3817\n",
            "Epoch 93/100\n",
            "323/323 [==============================] - 0s 1ms/step - loss: 4.5891 - mae: 1.3359 - val_loss: 15.5387 - val_mae: 2.3907\n",
            "Epoch 94/100\n",
            "323/323 [==============================] - 0s 985us/step - loss: 4.4428 - mae: 1.4102 - val_loss: 18.2226 - val_mae: 2.7495\n",
            "Epoch 95/100\n",
            "323/323 [==============================] - 0s 1ms/step - loss: 4.6153 - mae: 1.3791 - val_loss: 12.6371 - val_mae: 2.3231\n",
            "Epoch 96/100\n",
            "323/323 [==============================] - 0s 983us/step - loss: 4.6389 - mae: 1.3606 - val_loss: 14.5116 - val_mae: 2.4063\n",
            "Epoch 97/100\n",
            "323/323 [==============================] - 0s 993us/step - loss: 4.4541 - mae: 1.3838 - val_loss: 16.6431 - val_mae: 2.3764\n",
            "Epoch 98/100\n",
            "323/323 [==============================] - 0s 1ms/step - loss: 4.4943 - mae: 1.3706 - val_loss: 16.0443 - val_mae: 2.4768\n",
            "Epoch 99/100\n",
            "323/323 [==============================] - 0s 1ms/step - loss: 4.5566 - mae: 1.3475 - val_loss: 14.0142 - val_mae: 2.4184\n",
            "Epoch 100/100\n",
            "323/323 [==============================] - 0s 1ms/step - loss: 4.1323 - mae: 1.3067 - val_loss: 13.9079 - val_mae: 2.5027\n"
          ],
          "name": "stdout"
        }
      ]
    },
    {
      "cell_type": "code",
      "metadata": {
        "id": "j4RXe63R-qyR",
        "colab_type": "code",
        "colab": {}
      },
      "source": [
        "l2_mae = history.history['mae']\n",
        "l2_val_mae = history.history['val_mae']\n",
        "\n",
        "l2_loss = history.history['loss']\n",
        "l2_val_loss = history.history['val_loss']"
      ],
      "execution_count": 25,
      "outputs": []
    },
    {
      "cell_type": "code",
      "metadata": {
        "id": "0gu9RQ8w_FLa",
        "colab_type": "code",
        "colab": {
          "base_uri": "https://localhost:8080/",
          "height": 281
        },
        "outputId": "4afce078-20cd-478e-f0c9-099b175a4076"
      },
      "source": [
        "plt.plot(epochs, l2_val_mae, 'bo', label='l2 Validation mae')\n",
        "plt.plot(epochs, val_mae, 'b', label='Validation mae')\n",
        "plt.title('l2 and normal validation mae')\n",
        "plt.legend()\n",
        "\n",
        "plt.show()"
      ],
      "execution_count": 26,
      "outputs": [
        {
          "output_type": "display_data",
          "data": {
            "image/png": "[encoded data removed]",
            "text/plain": [
              "<Figure size 432x288 with 1 Axes>"
            ]
          },
          "metadata": {
            "tags": [],
            "needs_background": "light"
          }
        }
      ]
    },
    {
      "cell_type": "code",
      "metadata": {
        "id": "qjfNaSw5_VwS",
        "colab_type": "code",
        "colab": {
          "base_uri": "https://localhost:8080/",
          "height": 281
        },
        "outputId": "9b8388d9-1d1c-4ca6-cfb6-5efb1287efb6"
      },
      "source": [
        "plt.plot(epochs, l2_val_loss, 'bo', label='l2 Valdation loss')\n",
        "plt.plot(epochs, val_loss, 'b', label='Validation loss')\n",
        "plt.title('l2 and normal validation loss')\n",
        "plt.legend()\n",
        "\n",
        "plt.show()"
      ],
      "execution_count": 27,
      "outputs": [
        {
          "output_type": "display_data",
          "data": {
            "image/png": "[encoded data removed]",
            "text/plain": [
              "<Figure size 432x288 with 1 Axes>"
            ]
          },
          "metadata": {
            "tags": [],
            "needs_background": "light"
          }
        }
      ]
    },
    {
      "cell_type": "code",
      "metadata": {
        "id": "R679-K4N_krJ",
        "colab_type": "code",
        "colab": {
          "base_uri": "https://localhost:8080/",
          "height": 279
        },
        "outputId": "557181df-8c04-47a1-f025-54f9d9e7bf21"
      },
      "source": [
        "smooth_l2_mae_history = smooth_curve(l2_val_mae[10:])\n",
        "\n",
        "plt.plot(range(1, len(smooth_mae_history) + 1), smooth_l2_mae_history, 'bo', label='l2 Valdation mae')\n",
        "plt.plot(range(1, len(smooth_mae_history) + 1), smooth_mae_history, 'b', label='Valdation mae')\n",
        "plt.xlabel('Epochs')\n",
        "plt.ylabel('Validation MAE')\n",
        "plt.legend()\n",
        "plt.show()"
      ],
      "execution_count": 28,
      "outputs": [
        {
          "output_type": "display_data",
          "data": {
            "image/png": "[encoded data removed]",
            "text/plain": [
              "<Figure size 432x288 with 1 Axes>"
            ]
          },
          "metadata": {
            "tags": [],
            "needs_background": "light"
          }
        }
      ]
    },
    {
      "cell_type": "code",
      "metadata": {
        "id": "O-YWRco_AGZf",
        "colab_type": "code",
        "colab": {}
      },
      "source": [
        ""
      ],
      "execution_count": null,
      "outputs": []
    }
  ]
}