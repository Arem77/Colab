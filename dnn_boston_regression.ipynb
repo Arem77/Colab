{
  "nbformat": 4,
  "nbformat_minor": 0,
  "metadata": {
    "colab": {
      "name": "dnn_boston_regression.ipynb",
      "provenance": [],
      "collapsed_sections": [],
      "include_colab_link": true
    },
    "kernelspec": {
      "name": "python3",
      "display_name": "Python 3"
    }
  },
  "cells": [
    {
      "cell_type": "markdown",
      "metadata": {
        "id": "view-in-github",
        "colab_type": "text"
      },
      "source": [
        "<a href=\"https://colab.research.google.com/github/Arem77/Colab/blob/master/dnn_boston_regression.ipynb\" target=\"_parent\"><img src=\"https://colab.research.google.com/assets/colab-badge.svg\" alt=\"Open In Colab\"/></a>"
      ]
    },
    {
      "cell_type": "code",
      "metadata": {
        "id": "SaYA9bQX7p5h",
        "colab_type": "code",
        "colab": {}
      },
      "source": [
        "from tensorflow.keras.datasets import boston_housing"
      ],
      "execution_count": null,
      "outputs": []
    },
    {
      "cell_type": "code",
      "metadata": {
        "id": "2L6XM3PbTHtg",
        "colab_type": "code",
        "colab": {
          "base_uri": "https://localhost:8080/",
          "height": 52
        },
        "outputId": "67ca8c31-195a-48db-f046-18f91c5ceef9"
      },
      "source": [
        "(train_data, train_targets), (test_data, test_targets) =  boston_housing.load_data()"
      ],
      "execution_count": null,
      "outputs": [
        {
          "output_type": "stream",
          "text": [
            "Downloading data from https://storage.googleapis.com/tensorflow/tf-keras-datasets/boston_housing.npz\n",
            "57344/57026 [==============================] - 0s 0us/step\n"
          ],
          "name": "stdout"
        }
      ]
    },
    {
      "cell_type": "code",
      "metadata": {
        "id": "xd4zlFN8EQRn",
        "colab_type": "code",
        "colab": {
          "base_uri": "https://localhost:8080/",
          "height": 52
        },
        "outputId": "0c48eee5-92b0-46d8-8882-f88668ddef0b"
      },
      "source": [
        "print('train data shape:', train_data.shape)\n",
        "print('rest data shape:', test_data.shape)"
      ],
      "execution_count": null,
      "outputs": [
        {
          "output_type": "stream",
          "text": [
            "train data shape: (404, 13)\n",
            "rest data shape: (102, 13)\n"
          ],
          "name": "stdout"
        }
      ]
    },
    {
      "cell_type": "code",
      "metadata": {
        "id": "9IfNfJJWTYcZ",
        "colab_type": "code",
        "colab": {
          "base_uri": "https://localhost:8080/",
          "height": 52
        },
        "outputId": "50deb1fc-f112-4cb5-cd80-02f5c0c78732"
      },
      "source": [
        "print(train_targets.shape)\n",
        "print(test_targets.shape)"
      ],
      "execution_count": null,
      "outputs": [
        {
          "output_type": "stream",
          "text": [
            "(404,)\n",
            "(102,)\n"
          ],
          "name": "stdout"
        }
      ]
    },
    {
      "cell_type": "code",
      "metadata": {
        "id": "r9Jc68a5EkpH",
        "colab_type": "code",
        "colab": {
          "base_uri": "https://localhost:8080/",
          "height": 34
        },
        "outputId": "7bfe23e6-fd37-4087-8952-646835c994f1"
      },
      "source": [
        "train_targets[0]"
      ],
      "execution_count": null,
      "outputs": [
        {
          "output_type": "execute_result",
          "data": {
            "text/plain": [
              "15.2"
            ]
          },
          "metadata": {
            "tags": []
          },
          "execution_count": 5
        }
      ]
    },
    {
      "cell_type": "code",
      "metadata": {
        "id": "LQrsGmS8EnL_",
        "colab_type": "code",
        "colab": {}
      },
      "source": [
        "mean = train_data.mean(axis=0)\n",
        "std = train_data.std(axis=0)\n",
        "train_data = (train_data - mean)/std\n",
        "\n",
        "test_data = (test_data - mean)/std"
      ],
      "execution_count": null,
      "outputs": []
    },
    {
      "cell_type": "code",
      "metadata": {
        "id": "L1tziJU8uH5x",
        "colab_type": "code",
        "colab": {}
      },
      "source": [
        "from tensorflow.keras import models, layers"
      ],
      "execution_count": null,
      "outputs": []
    },
    {
      "cell_type": "code",
      "metadata": {
        "id": "Ap0bE4hXErI3",
        "colab_type": "code",
        "colab": {}
      },
      "source": [
        "model = models.Sequential()\n",
        "model.add(layers.Dense(64, activation='relu',\n",
        "                           input_shape=(train_data.shape[1],)))\n",
        "model.add(layers.Dense(64, activation='relu'))\n",
        "model.add(layers.Dense(1))"
      ],
      "execution_count": null,
      "outputs": []
    },
    {
      "cell_type": "code",
      "metadata": {
        "id": "ukB24PBeHa0Z",
        "colab_type": "code",
        "colab": {
          "base_uri": "https://localhost:8080/",
          "height": 262
        },
        "outputId": "cd6cbe85-2a18-425a-a6d0-3e42fe4ae1ea"
      },
      "source": [
        "model.summary()"
      ],
      "execution_count": null,
      "outputs": [
        {
          "output_type": "stream",
          "text": [
            "Model: \"sequential\"\n",
            "_________________________________________________________________\n",
            "Layer (type)                 Output Shape              Param #   \n",
            "=================================================================\n",
            "dense (Dense)                (None, 64)                896       \n",
            "_________________________________________________________________\n",
            "dense_1 (Dense)              (None, 64)                4160      \n",
            "_________________________________________________________________\n",
            "dense_2 (Dense)              (None, 1)                 65        \n",
            "=================================================================\n",
            "Total params: 5,121\n",
            "Trainable params: 5,121\n",
            "Non-trainable params: 0\n",
            "_________________________________________________________________\n"
          ],
          "name": "stdout"
        }
      ]
    },
    {
      "cell_type": "code",
      "metadata": {
        "id": "TwYxvTN8Ey5v",
        "colab_type": "code",
        "colab": {}
      },
      "source": [
        "model.compile(optimizer='rmsprop',\n",
        "              loss='mse',\n",
        "              metrics=['mae'])"
      ],
      "execution_count": null,
      "outputs": []
    },
    {
      "cell_type": "code",
      "metadata": {
        "id": "m1YzbzNBFBWm",
        "colab_type": "code",
        "colab": {
          "base_uri": "https://localhost:8080/",
          "height": 1000
        },
        "outputId": "9d238d1d-6e08-46ee-b9a4-e6150a40e3de"
      },
      "source": [
        "history = model.fit(train_data, train_targets,\n",
        "                    epochs=100,\n",
        "                    batch_size=1,\n",
        "                    validation_split=0.2)"
      ],
      "execution_count": null,
      "outputs": [
        {
          "output_type": "stream",
          "text": [
            "Epoch 1/100\n",
            "323/323 [==============================] - 0s 1ms/step - loss: 203.3260 - mae: 11.1529 - val_loss: 43.7899 - val_mae: 4.9496\n",
            "Epoch 2/100\n",
            "323/323 [==============================] - 0s 1ms/step - loss: 30.1895 - mae: 3.7238 - val_loss: 21.1542 - val_mae: 3.2605\n",
            "Epoch 3/100\n",
            "323/323 [==============================] - 0s 1ms/step - loss: 19.7390 - mae: 2.9359 - val_loss: 16.6861 - val_mae: 2.9008\n",
            "Epoch 4/100\n",
            "323/323 [==============================] - 0s 1ms/step - loss: 16.9996 - mae: 2.6624 - val_loss: 14.1945 - val_mae: 2.8103\n",
            "Epoch 5/100\n",
            "323/323 [==============================] - 0s 1ms/step - loss: 14.9919 - mae: 2.5246 - val_loss: 13.6850 - val_mae: 2.7005\n",
            "Epoch 6/100\n",
            "323/323 [==============================] - 0s 1ms/step - loss: 14.2805 - mae: 2.3508 - val_loss: 12.6745 - val_mae: 2.7556\n",
            "Epoch 7/100\n",
            "323/323 [==============================] - 0s 1ms/step - loss: 13.2736 - mae: 2.4128 - val_loss: 11.5891 - val_mae: 2.6305\n",
            "Epoch 8/100\n",
            "323/323 [==============================] - 0s 1ms/step - loss: 11.8457 - mae: 2.2942 - val_loss: 11.6555 - val_mae: 2.6633\n",
            "Epoch 9/100\n",
            "323/323 [==============================] - 0s 1ms/step - loss: 12.0870 - mae: 2.3141 - val_loss: 10.9533 - val_mae: 2.5324\n",
            "Epoch 10/100\n",
            "323/323 [==============================] - 0s 1ms/step - loss: 11.0107 - mae: 2.1958 - val_loss: 12.1110 - val_mae: 2.7189\n",
            "Epoch 11/100\n",
            "323/323 [==============================] - 0s 1ms/step - loss: 10.6808 - mae: 2.1736 - val_loss: 11.5350 - val_mae: 2.4964\n",
            "Epoch 12/100\n",
            "323/323 [==============================] - 0s 1ms/step - loss: 10.5997 - mae: 2.1434 - val_loss: 11.1017 - val_mae: 2.5662\n",
            "Epoch 13/100\n",
            "323/323 [==============================] - 0s 1ms/step - loss: 10.0466 - mae: 2.1247 - val_loss: 13.1150 - val_mae: 2.7102\n",
            "Epoch 14/100\n",
            "323/323 [==============================] - 0s 1ms/step - loss: 10.0090 - mae: 2.0997 - val_loss: 12.1287 - val_mae: 2.5228\n",
            "Epoch 15/100\n",
            "323/323 [==============================] - 0s 1ms/step - loss: 9.2289 - mae: 2.0366 - val_loss: 14.9160 - val_mae: 3.0800\n",
            "Epoch 16/100\n",
            "323/323 [==============================] - 0s 1ms/step - loss: 9.3457 - mae: 2.0321 - val_loss: 13.5176 - val_mae: 2.5839\n",
            "Epoch 17/100\n",
            "323/323 [==============================] - 0s 1ms/step - loss: 8.8648 - mae: 1.9676 - val_loss: 11.6247 - val_mae: 2.4685\n",
            "Epoch 18/100\n",
            "323/323 [==============================] - 0s 1ms/step - loss: 8.6349 - mae: 1.9765 - val_loss: 12.5009 - val_mae: 2.5818\n",
            "Epoch 19/100\n",
            "323/323 [==============================] - 0s 1ms/step - loss: 8.5777 - mae: 2.0013 - val_loss: 14.9568 - val_mae: 2.6236\n",
            "Epoch 20/100\n",
            "323/323 [==============================] - 0s 1ms/step - loss: 8.5691 - mae: 1.9790 - val_loss: 14.8238 - val_mae: 2.7096\n",
            "Epoch 21/100\n",
            "323/323 [==============================] - 0s 1ms/step - loss: 8.5560 - mae: 1.9759 - val_loss: 13.1707 - val_mae: 2.5370\n",
            "Epoch 22/100\n",
            "323/323 [==============================] - 0s 1ms/step - loss: 8.5707 - mae: 1.8650 - val_loss: 13.2991 - val_mae: 2.5949\n",
            "Epoch 23/100\n",
            "323/323 [==============================] - 0s 1ms/step - loss: 8.1568 - mae: 1.8417 - val_loss: 12.5922 - val_mae: 2.5071\n",
            "Epoch 24/100\n",
            "323/323 [==============================] - 0s 1ms/step - loss: 8.2110 - mae: 1.8822 - val_loss: 14.0336 - val_mae: 2.5797\n",
            "Epoch 25/100\n",
            "323/323 [==============================] - 0s 1ms/step - loss: 8.1538 - mae: 1.8539 - val_loss: 16.7096 - val_mae: 2.7151\n",
            "Epoch 26/100\n",
            "323/323 [==============================] - 0s 1ms/step - loss: 8.1495 - mae: 1.8867 - val_loss: 14.2287 - val_mae: 2.6047\n",
            "Epoch 27/100\n",
            "323/323 [==============================] - 0s 1ms/step - loss: 7.8302 - mae: 1.8550 - val_loss: 13.8637 - val_mae: 2.5074\n",
            "Epoch 28/100\n",
            "323/323 [==============================] - 0s 1ms/step - loss: 7.4929 - mae: 1.8105 - val_loss: 13.8332 - val_mae: 2.6015\n",
            "Epoch 29/100\n",
            "323/323 [==============================] - 0s 1ms/step - loss: 7.6909 - mae: 1.8340 - val_loss: 15.4684 - val_mae: 2.5789\n",
            "Epoch 30/100\n",
            "323/323 [==============================] - 0s 1ms/step - loss: 7.6530 - mae: 1.8315 - val_loss: 15.2734 - val_mae: 2.6643\n",
            "Epoch 31/100\n",
            "323/323 [==============================] - 0s 1ms/step - loss: 7.3103 - mae: 1.7582 - val_loss: 14.9240 - val_mae: 2.6121\n",
            "Epoch 32/100\n",
            "323/323 [==============================] - 0s 1ms/step - loss: 7.2468 - mae: 1.7728 - val_loss: 15.6112 - val_mae: 2.9219\n",
            "Epoch 33/100\n",
            "323/323 [==============================] - 0s 1ms/step - loss: 7.6196 - mae: 1.7572 - val_loss: 14.6317 - val_mae: 2.6263\n",
            "Epoch 34/100\n",
            "323/323 [==============================] - 0s 1ms/step - loss: 7.5724 - mae: 1.7120 - val_loss: 12.9979 - val_mae: 2.5008\n",
            "Epoch 35/100\n",
            "323/323 [==============================] - 0s 1ms/step - loss: 6.9625 - mae: 1.7475 - val_loss: 14.0800 - val_mae: 2.4985\n",
            "Epoch 36/100\n",
            "323/323 [==============================] - 0s 1ms/step - loss: 6.8968 - mae: 1.7680 - val_loss: 15.2924 - val_mae: 2.5670\n",
            "Epoch 37/100\n",
            "323/323 [==============================] - 0s 1ms/step - loss: 6.8510 - mae: 1.6744 - val_loss: 14.7198 - val_mae: 2.5423\n",
            "Epoch 38/100\n",
            "323/323 [==============================] - 0s 1ms/step - loss: 6.9955 - mae: 1.7409 - val_loss: 15.1131 - val_mae: 2.5762\n",
            "Epoch 39/100\n",
            "323/323 [==============================] - 0s 1ms/step - loss: 6.5683 - mae: 1.7535 - val_loss: 16.0975 - val_mae: 2.5791\n",
            "Epoch 40/100\n",
            "323/323 [==============================] - 0s 1ms/step - loss: 7.0714 - mae: 1.7371 - val_loss: 15.2733 - val_mae: 2.5180\n",
            "Epoch 41/100\n",
            "323/323 [==============================] - 0s 1ms/step - loss: 6.5860 - mae: 1.6813 - val_loss: 14.3199 - val_mae: 2.5707\n",
            "Epoch 42/100\n",
            "323/323 [==============================] - 0s 1ms/step - loss: 6.0206 - mae: 1.6751 - val_loss: 14.3455 - val_mae: 2.7107\n",
            "Epoch 43/100\n",
            "323/323 [==============================] - 0s 1ms/step - loss: 6.4649 - mae: 1.6594 - val_loss: 15.2593 - val_mae: 2.5046\n",
            "Epoch 44/100\n",
            "323/323 [==============================] - 0s 1ms/step - loss: 6.1475 - mae: 1.6401 - val_loss: 20.4038 - val_mae: 2.8051\n",
            "Epoch 45/100\n",
            "323/323 [==============================] - 0s 1ms/step - loss: 5.9596 - mae: 1.6681 - val_loss: 13.9987 - val_mae: 2.5844\n",
            "Epoch 46/100\n",
            "323/323 [==============================] - 0s 1ms/step - loss: 6.2237 - mae: 1.6566 - val_loss: 14.4924 - val_mae: 2.6311\n",
            "Epoch 47/100\n",
            "323/323 [==============================] - 0s 1ms/step - loss: 6.1853 - mae: 1.6032 - val_loss: 14.8642 - val_mae: 2.5579\n",
            "Epoch 48/100\n",
            "323/323 [==============================] - 0s 1ms/step - loss: 6.2028 - mae: 1.6113 - val_loss: 16.2396 - val_mae: 2.7208\n",
            "Epoch 49/100\n",
            "323/323 [==============================] - 0s 1ms/step - loss: 5.9238 - mae: 1.6206 - val_loss: 14.0227 - val_mae: 2.5377\n",
            "Epoch 50/100\n",
            "323/323 [==============================] - 0s 1ms/step - loss: 6.2438 - mae: 1.6680 - val_loss: 14.5721 - val_mae: 2.5070\n",
            "Epoch 51/100\n",
            "323/323 [==============================] - 0s 1ms/step - loss: 5.9431 - mae: 1.5865 - val_loss: 17.2930 - val_mae: 2.7417\n",
            "Epoch 52/100\n",
            "323/323 [==============================] - 0s 1ms/step - loss: 5.8828 - mae: 1.6136 - val_loss: 14.1711 - val_mae: 2.5381\n",
            "Epoch 53/100\n",
            "323/323 [==============================] - 0s 1ms/step - loss: 5.9768 - mae: 1.5881 - val_loss: 16.7035 - val_mae: 2.5394\n",
            "Epoch 54/100\n",
            "323/323 [==============================] - 0s 1ms/step - loss: 5.8160 - mae: 1.6288 - val_loss: 14.2764 - val_mae: 2.5151\n",
            "Epoch 55/100\n",
            "323/323 [==============================] - 0s 1ms/step - loss: 5.5578 - mae: 1.5557 - val_loss: 13.5938 - val_mae: 2.5499\n",
            "Epoch 56/100\n",
            "323/323 [==============================] - 0s 1ms/step - loss: 5.8526 - mae: 1.5735 - val_loss: 13.8324 - val_mae: 2.4834\n",
            "Epoch 57/100\n",
            "323/323 [==============================] - 0s 1ms/step - loss: 5.5835 - mae: 1.5793 - val_loss: 16.3284 - val_mae: 2.9330\n",
            "Epoch 58/100\n",
            "323/323 [==============================] - 0s 1ms/step - loss: 5.8030 - mae: 1.5874 - val_loss: 14.0219 - val_mae: 2.4981\n",
            "Epoch 59/100\n",
            "323/323 [==============================] - 0s 1ms/step - loss: 5.5451 - mae: 1.5635 - val_loss: 14.0999 - val_mae: 2.4507\n",
            "Epoch 60/100\n",
            "323/323 [==============================] - 0s 1ms/step - loss: 5.1925 - mae: 1.5201 - val_loss: 15.2854 - val_mae: 2.7483\n",
            "Epoch 61/100\n",
            "323/323 [==============================] - 0s 1ms/step - loss: 5.4933 - mae: 1.5151 - val_loss: 14.5187 - val_mae: 2.4686\n",
            "Epoch 62/100\n",
            "323/323 [==============================] - 0s 1ms/step - loss: 5.3359 - mae: 1.5313 - val_loss: 15.8445 - val_mae: 2.5918\n",
            "Epoch 63/100\n",
            "323/323 [==============================] - 0s 1ms/step - loss: 5.6879 - mae: 1.5761 - val_loss: 15.3072 - val_mae: 2.4436\n",
            "Epoch 64/100\n",
            "323/323 [==============================] - 0s 1ms/step - loss: 5.0591 - mae: 1.5146 - val_loss: 17.4575 - val_mae: 2.8856\n",
            "Epoch 65/100\n",
            "323/323 [==============================] - 0s 1ms/step - loss: 5.2144 - mae: 1.5152 - val_loss: 13.5703 - val_mae: 2.4281\n",
            "Epoch 66/100\n",
            "323/323 [==============================] - 0s 1ms/step - loss: 5.0047 - mae: 1.4867 - val_loss: 15.6535 - val_mae: 2.5110\n",
            "Epoch 67/100\n",
            "323/323 [==============================] - 0s 1ms/step - loss: 5.2546 - mae: 1.5448 - val_loss: 15.8380 - val_mae: 2.5380\n",
            "Epoch 68/100\n",
            "323/323 [==============================] - 0s 1ms/step - loss: 4.7291 - mae: 1.4853 - val_loss: 13.5108 - val_mae: 2.5335\n",
            "Epoch 69/100\n",
            "323/323 [==============================] - 0s 1ms/step - loss: 4.9235 - mae: 1.4828 - val_loss: 13.5299 - val_mae: 2.3997\n",
            "Epoch 70/100\n",
            "323/323 [==============================] - 0s 1ms/step - loss: 5.0240 - mae: 1.5201 - val_loss: 15.8791 - val_mae: 2.4927\n",
            "Epoch 71/100\n",
            "323/323 [==============================] - 0s 1ms/step - loss: 4.8761 - mae: 1.4874 - val_loss: 14.7120 - val_mae: 2.5949\n",
            "Epoch 72/100\n",
            "323/323 [==============================] - 0s 1ms/step - loss: 4.8028 - mae: 1.4790 - val_loss: 14.0630 - val_mae: 2.4523\n",
            "Epoch 73/100\n",
            "323/323 [==============================] - 0s 1ms/step - loss: 4.8995 - mae: 1.4377 - val_loss: 14.7209 - val_mae: 2.4867\n",
            "Epoch 74/100\n",
            "323/323 [==============================] - 0s 1ms/step - loss: 4.7217 - mae: 1.4302 - val_loss: 12.9642 - val_mae: 2.4817\n",
            "Epoch 75/100\n",
            "323/323 [==============================] - 0s 1ms/step - loss: 4.7376 - mae: 1.4409 - val_loss: 15.5612 - val_mae: 2.5178\n",
            "Epoch 76/100\n",
            "323/323 [==============================] - 0s 1ms/step - loss: 4.8832 - mae: 1.4769 - val_loss: 14.9271 - val_mae: 2.5513\n",
            "Epoch 77/100\n",
            "323/323 [==============================] - 0s 1ms/step - loss: 4.5026 - mae: 1.3586 - val_loss: 17.3284 - val_mae: 2.6151\n",
            "Epoch 78/100\n",
            "323/323 [==============================] - 0s 1ms/step - loss: 4.6737 - mae: 1.4535 - val_loss: 14.6027 - val_mae: 2.4015\n",
            "Epoch 79/100\n",
            "323/323 [==============================] - 0s 1ms/step - loss: 4.6524 - mae: 1.4320 - val_loss: 13.7338 - val_mae: 2.4075\n",
            "Epoch 80/100\n",
            "323/323 [==============================] - 0s 1ms/step - loss: 4.9681 - mae: 1.3898 - val_loss: 15.0096 - val_mae: 2.5037\n",
            "Epoch 81/100\n",
            "323/323 [==============================] - 0s 1ms/step - loss: 4.2183 - mae: 1.3605 - val_loss: 13.4133 - val_mae: 2.4746\n",
            "Epoch 82/100\n",
            "323/323 [==============================] - 0s 1ms/step - loss: 4.6782 - mae: 1.3683 - val_loss: 15.6811 - val_mae: 2.5283\n",
            "Epoch 83/100\n",
            "323/323 [==============================] - 0s 1ms/step - loss: 4.6870 - mae: 1.3988 - val_loss: 15.6357 - val_mae: 2.5996\n",
            "Epoch 84/100\n",
            "323/323 [==============================] - 0s 1ms/step - loss: 4.3826 - mae: 1.3963 - val_loss: 13.1661 - val_mae: 2.4813\n",
            "Epoch 85/100\n",
            "323/323 [==============================] - 0s 1ms/step - loss: 4.4733 - mae: 1.3730 - val_loss: 13.3794 - val_mae: 2.4849\n",
            "Epoch 86/100\n",
            "323/323 [==============================] - 0s 1ms/step - loss: 4.3599 - mae: 1.3946 - val_loss: 16.6775 - val_mae: 2.7408\n",
            "Epoch 87/100\n",
            "323/323 [==============================] - 0s 1ms/step - loss: 4.3969 - mae: 1.3646 - val_loss: 18.9302 - val_mae: 2.5695\n",
            "Epoch 88/100\n",
            "323/323 [==============================] - 0s 1ms/step - loss: 4.2323 - mae: 1.3865 - val_loss: 14.3354 - val_mae: 2.6226\n",
            "Epoch 89/100\n",
            "323/323 [==============================] - 0s 1ms/step - loss: 4.2976 - mae: 1.3591 - val_loss: 15.8433 - val_mae: 2.8188\n",
            "Epoch 90/100\n",
            "323/323 [==============================] - 0s 1ms/step - loss: 4.0798 - mae: 1.3271 - val_loss: 13.6099 - val_mae: 2.5747\n",
            "Epoch 91/100\n",
            "323/323 [==============================] - 0s 1ms/step - loss: 4.2267 - mae: 1.3726 - val_loss: 16.5980 - val_mae: 2.6018\n",
            "Epoch 92/100\n",
            "323/323 [==============================] - 0s 1ms/step - loss: 4.3606 - mae: 1.3606 - val_loss: 14.2957 - val_mae: 2.5305\n",
            "Epoch 93/100\n",
            "323/323 [==============================] - 0s 1ms/step - loss: 4.3578 - mae: 1.3754 - val_loss: 14.3392 - val_mae: 2.4867\n",
            "Epoch 94/100\n",
            "323/323 [==============================] - 0s 1ms/step - loss: 4.2523 - mae: 1.3873 - val_loss: 17.7443 - val_mae: 2.7115\n",
            "Epoch 95/100\n",
            "323/323 [==============================] - 0s 1ms/step - loss: 3.9748 - mae: 1.2750 - val_loss: 18.9492 - val_mae: 2.9451\n",
            "Epoch 96/100\n",
            "323/323 [==============================] - 0s 1ms/step - loss: 4.3932 - mae: 1.3197 - val_loss: 13.5437 - val_mae: 2.3458\n",
            "Epoch 97/100\n",
            "323/323 [==============================] - 0s 1ms/step - loss: 4.1491 - mae: 1.3072 - val_loss: 17.5379 - val_mae: 2.5926\n",
            "Epoch 98/100\n",
            "323/323 [==============================] - 0s 1ms/step - loss: 4.0607 - mae: 1.3525 - val_loss: 17.6549 - val_mae: 2.7328\n",
            "Epoch 99/100\n",
            "323/323 [==============================] - 0s 1ms/step - loss: 3.6697 - mae: 1.2974 - val_loss: 13.7950 - val_mae: 2.4414\n",
            "Epoch 100/100\n",
            "323/323 [==============================] - 0s 1ms/step - loss: 4.0571 - mae: 1.3138 - val_loss: 13.3760 - val_mae: 2.4594\n"
          ],
          "name": "stdout"
        }
      ]
    },
    {
      "cell_type": "code",
      "metadata": {
        "id": "muyntjXlFeA_",
        "colab_type": "code",
        "colab": {}
      },
      "source": [
        "mae = history.history['mae']\n",
        "val_mae = history.history['val_mae']\n",
        "\n",
        "loss = history.history['loss']\n",
        "val_loss = history.history['val_loss']\n",
        "\n",
        "epochs = range(len(mae))"
      ],
      "execution_count": null,
      "outputs": []
    },
    {
      "cell_type": "code",
      "metadata": {
        "id": "6HgFd1nbHXZl",
        "colab_type": "code",
        "colab": {}
      },
      "source": [
        "import matplotlib.pyplot as plt"
      ],
      "execution_count": null,
      "outputs": []
    },
    {
      "cell_type": "code",
      "metadata": {
        "id": "BFT9uOuiHgyU",
        "colab_type": "code",
        "colab": {
          "base_uri": "https://localhost:8080/",
          "height": 281
        },
        "outputId": "e0f37ba7-3e62-4e19-a232-bfcfd558019c"
      },
      "source": [
        "plt.plot(epochs, mae, 'bo', label='Training mae')\n",
        "plt.plot(epochs, val_mae, 'b', label='Validation mae')\n",
        "plt.title('Training and validation mae')\n",
        "plt.legend()\n",
        "\n",
        "plt.show()"
      ],
      "execution_count": null,
      "outputs": [
        {
          "output_type": "display_data",
          "data": {
            "image/png": "[encoded data removed]",
            "text/plain": [
              "<Figure size 432x288 with 1 Axes>"
            ]
          },
          "metadata": {
            "tags": [],
            "needs_background": "light"
          }
        }
      ]
    },
    {
      "cell_type": "code",
      "metadata": {
        "id": "rLD8kGX2HkCt",
        "colab_type": "code",
        "colab": {
          "base_uri": "https://localhost:8080/",
          "height": 281
        },
        "outputId": "b21412ee-6349-4c7f-bbbc-701a1b2b7e68"
      },
      "source": [
        "plt.plot(epochs, loss, 'bo', label='Training loss')\n",
        "plt.plot(epochs, val_loss, 'b', label='Validation loss')\n",
        "plt.title('Training and validation loss')\n",
        "plt.legend()\n",
        "\n",
        "plt.show()"
      ],
      "execution_count": null,
      "outputs": [
        {
          "output_type": "display_data",
          "data": {
            "image/png": "[encoded data removed]",
            "text/plain": [
              "<Figure size 432x288 with 1 Axes>"
            ]
          },
          "metadata": {
            "tags": [],
            "needs_background": "light"
          }
        }
      ]
    },
    {
      "cell_type": "code",
      "metadata": {
        "id": "SrXe1ol7Hs_N",
        "colab_type": "code",
        "colab": {
          "base_uri": "https://localhost:8080/",
          "height": 279
        },
        "outputId": "5dbe2d36-f7fb-47fe-ea72-1db67bb8cf9f"
      },
      "source": [
        "def smooth_curve(points, factor=0.9):\n",
        "  smoothed_points = []\n",
        "  for point in points:\n",
        "    if smoothed_points:\n",
        "      previous = smoothed_points[-1]\n",
        "      smoothed_points.append(previous * factor + point * (1 - factor))\n",
        "    else:\n",
        "      smoothed_points.append(point)\n",
        "  return smoothed_points\n",
        "\n",
        "smooth_mae_history = smooth_curve(val_mae[10:])\n",
        "\n",
        "plt.plot(range(1, len(smooth_mae_history) + 1), smooth_mae_history)\n",
        "plt.xlabel('Epochs')\n",
        "plt.ylabel('Validation MAE')\n",
        "plt.show()"
      ],
      "execution_count": null,
      "outputs": [
        {
          "output_type": "display_data",
          "data": {
            "image/png": "[encoded data removed]",
            "text/plain": [
              "<Figure size 432x288 with 1 Axes>"
            ]
          },
          "metadata": {
            "tags": [],
            "needs_background": "light"
          }
        }
      ]
    },
    {
      "cell_type": "code",
      "metadata": {
        "id": "-hrz--f9IEoU",
        "colab_type": "code",
        "colab": {
          "base_uri": "https://localhost:8080/",
          "height": 34
        },
        "outputId": "c02f2e8f-ea2b-4e0a-f8ae-07d3f8f24a34"
      },
      "source": [
        "test_mse_score, test_mae_score = model.evaluate(test_data, test_targets)"
      ],
      "execution_count": null,
      "outputs": [
        {
          "output_type": "stream",
          "text": [
            "4/4 [==============================] - 0s 2ms/step - loss: 17.1015 - mae: 2.6495\n"
          ],
          "name": "stdout"
        }
      ]
    },
    {
      "cell_type": "code",
      "metadata": {
        "id": "dIFU8_A59nFy",
        "colab_type": "code",
        "colab": {}
      },
      "source": [
        "from tensorflow.keras import regularizers\n",
        "\n",
        "model2 = models.Sequential()\n",
        "model2.add(layers.Dense(64, activation='relu',\n",
        "                        kernel_regularizer=regularizers.l2(0.001),\n",
        "                        input_shape=(train_data.shape[1],)))\n",
        "model2.add(layers.Dense(64, activation='relu',\n",
        "                        kernel_regularizer=regularizers.l2(0.001)))\n",
        "model2.add(layers.Dense(1))"
      ],
      "execution_count": null,
      "outputs": []
    },
    {
      "cell_type": "code",
      "metadata": {
        "id": "0yV0gLA4-g7w",
        "colab_type": "code",
        "colab": {}
      },
      "source": [
        "model2.compile(optimizer='rmsprop', loss='mse', metrics=['mae'])"
      ],
      "execution_count": null,
      "outputs": []
    },
    {
      "cell_type": "code",
      "metadata": {
        "id": "7khfaORM-pHl",
        "colab_type": "code",
        "colab": {
          "base_uri": "https://localhost:8080/",
          "height": 1000
        },
        "outputId": "d7f3fd6c-b710-4b70-8b1e-eb810206aabc"
      },
      "source": [
        "history = model2.fit(train_data, train_targets,\n",
        "                     epochs=100,\n",
        "                     batch_size=1,\n",
        "                     validation_split=0.2)"
      ],
      "execution_count": null,
      "outputs": [
        {
          "output_type": "stream",
          "text": [
            "Train on 323 samples, validate on 81 samples\n",
            "Epoch 1/100\n",
            "323/323 [==============================] - 1s 2ms/sample - loss: 201.0558 - mean_absolute_error: 10.2586 - val_loss: 51.1760 - val_mean_absolute_error: 5.1035\n",
            "Epoch 2/100\n",
            "323/323 [==============================] - 0s 1ms/sample - loss: 29.0464 - mean_absolute_error: 3.6842 - val_loss: 25.5232 - val_mean_absolute_error: 3.5281\n",
            "Epoch 3/100\n",
            "323/323 [==============================] - 0s 1ms/sample - loss: 21.7073 - mean_absolute_error: 3.1003 - val_loss: 18.9436 - val_mean_absolute_error: 3.0725\n",
            "Epoch 4/100\n",
            "323/323 [==============================] - 0s 1ms/sample - loss: 17.9586 - mean_absolute_error: 2.7981 - val_loss: 14.9697 - val_mean_absolute_error: 2.8355\n",
            "Epoch 5/100\n",
            "323/323 [==============================] - 0s 1ms/sample - loss: 15.7628 - mean_absolute_error: 2.4805 - val_loss: 14.9618 - val_mean_absolute_error: 2.8386\n",
            "Epoch 6/100\n",
            "323/323 [==============================] - 0s 1ms/sample - loss: 13.8484 - mean_absolute_error: 2.4747 - val_loss: 13.2811 - val_mean_absolute_error: 2.8307\n",
            "Epoch 7/100\n",
            "323/323 [==============================] - 0s 1ms/sample - loss: 13.1257 - mean_absolute_error: 2.3642 - val_loss: 12.2323 - val_mean_absolute_error: 2.6723\n",
            "Epoch 8/100\n",
            "323/323 [==============================] - 0s 1ms/sample - loss: 12.9061 - mean_absolute_error: 2.3272 - val_loss: 11.6009 - val_mean_absolute_error: 2.5674\n",
            "Epoch 9/100\n",
            "323/323 [==============================] - 0s 1ms/sample - loss: 11.8162 - mean_absolute_error: 2.2607 - val_loss: 11.8982 - val_mean_absolute_error: 2.6365\n",
            "Epoch 10/100\n",
            "323/323 [==============================] - 0s 1ms/sample - loss: 11.2978 - mean_absolute_error: 2.2234 - val_loss: 11.5865 - val_mean_absolute_error: 2.5211\n",
            "Epoch 11/100\n",
            "323/323 [==============================] - 0s 1ms/sample - loss: 11.2605 - mean_absolute_error: 2.1284 - val_loss: 11.0339 - val_mean_absolute_error: 2.5093\n",
            "Epoch 12/100\n",
            "323/323 [==============================] - 0s 1ms/sample - loss: 10.7403 - mean_absolute_error: 2.0842 - val_loss: 11.9013 - val_mean_absolute_error: 2.5796\n",
            "Epoch 13/100\n",
            "323/323 [==============================] - 0s 1ms/sample - loss: 10.0565 - mean_absolute_error: 2.1168 - val_loss: 10.6275 - val_mean_absolute_error: 2.5429\n",
            "Epoch 14/100\n",
            "323/323 [==============================] - 0s 1ms/sample - loss: 9.9960 - mean_absolute_error: 2.1415 - val_loss: 10.7783 - val_mean_absolute_error: 2.5169\n",
            "Epoch 15/100\n",
            "323/323 [==============================] - 0s 1ms/sample - loss: 9.5978 - mean_absolute_error: 2.0829 - val_loss: 14.5647 - val_mean_absolute_error: 2.7432\n",
            "Epoch 16/100\n",
            "323/323 [==============================] - 0s 1ms/sample - loss: 9.9665 - mean_absolute_error: 2.0721 - val_loss: 11.2675 - val_mean_absolute_error: 2.5327\n",
            "Epoch 17/100\n",
            "323/323 [==============================] - 0s 1ms/sample - loss: 9.3960 - mean_absolute_error: 2.0282 - val_loss: 11.0438 - val_mean_absolute_error: 2.3752\n",
            "Epoch 18/100\n",
            "323/323 [==============================] - 0s 1ms/sample - loss: 9.6697 - mean_absolute_error: 2.0325 - val_loss: 11.1723 - val_mean_absolute_error: 2.5182\n",
            "Epoch 19/100\n",
            "323/323 [==============================] - 0s 1ms/sample - loss: 9.1078 - mean_absolute_error: 1.9861 - val_loss: 12.4534 - val_mean_absolute_error: 2.5023\n",
            "Epoch 20/100\n",
            "323/323 [==============================] - 0s 1ms/sample - loss: 8.9045 - mean_absolute_error: 1.9124 - val_loss: 13.1978 - val_mean_absolute_error: 2.5995\n",
            "Epoch 21/100\n",
            "323/323 [==============================] - 0s 1ms/sample - loss: 8.6756 - mean_absolute_error: 1.9483 - val_loss: 13.5052 - val_mean_absolute_error: 2.5894\n",
            "Epoch 22/100\n",
            "323/323 [==============================] - 0s 1ms/sample - loss: 8.3833 - mean_absolute_error: 1.8907 - val_loss: 13.1156 - val_mean_absolute_error: 2.5000\n",
            "Epoch 23/100\n",
            "323/323 [==============================] - 0s 1ms/sample - loss: 8.5862 - mean_absolute_error: 1.9833 - val_loss: 13.3223 - val_mean_absolute_error: 2.6878\n",
            "Epoch 24/100\n",
            "323/323 [==============================] - 0s 1ms/sample - loss: 8.6866 - mean_absolute_error: 1.9052 - val_loss: 12.3908 - val_mean_absolute_error: 2.5982\n",
            "Epoch 25/100\n",
            "323/323 [==============================] - 0s 1ms/sample - loss: 8.6191 - mean_absolute_error: 1.8687 - val_loss: 12.8403 - val_mean_absolute_error: 2.5310\n",
            "Epoch 26/100\n",
            "323/323 [==============================] - 0s 1ms/sample - loss: 8.3246 - mean_absolute_error: 1.8474 - val_loss: 13.3521 - val_mean_absolute_error: 2.5253\n",
            "Epoch 27/100\n",
            "323/323 [==============================] - 0s 1ms/sample - loss: 8.2123 - mean_absolute_error: 1.8351 - val_loss: 13.1107 - val_mean_absolute_error: 2.5204\n",
            "Epoch 28/100\n",
            "323/323 [==============================] - 0s 1ms/sample - loss: 8.0791 - mean_absolute_error: 1.8251 - val_loss: 15.3173 - val_mean_absolute_error: 2.5987\n",
            "Epoch 29/100\n",
            "323/323 [==============================] - 0s 1ms/sample - loss: 8.2982 - mean_absolute_error: 1.8515 - val_loss: 12.8017 - val_mean_absolute_error: 2.5778\n",
            "Epoch 30/100\n",
            "323/323 [==============================] - 0s 1ms/sample - loss: 7.9411 - mean_absolute_error: 1.8336 - val_loss: 12.8224 - val_mean_absolute_error: 2.6143\n",
            "Epoch 31/100\n",
            "323/323 [==============================] - 0s 1ms/sample - loss: 8.3693 - mean_absolute_error: 1.7730 - val_loss: 13.3670 - val_mean_absolute_error: 2.5287\n",
            "Epoch 32/100\n",
            "323/323 [==============================] - 0s 1ms/sample - loss: 7.9990 - mean_absolute_error: 1.8080 - val_loss: 14.5844 - val_mean_absolute_error: 2.6239\n",
            "Epoch 33/100\n",
            "323/323 [==============================] - 0s 1ms/sample - loss: 7.4362 - mean_absolute_error: 1.8285 - val_loss: 12.5897 - val_mean_absolute_error: 2.5865\n",
            "Epoch 34/100\n",
            "323/323 [==============================] - 0s 1ms/sample - loss: 7.4644 - mean_absolute_error: 1.7624 - val_loss: 12.9961 - val_mean_absolute_error: 2.4334\n",
            "Epoch 35/100\n",
            "323/323 [==============================] - 0s 1ms/sample - loss: 7.0662 - mean_absolute_error: 1.7853 - val_loss: 11.8490 - val_mean_absolute_error: 2.3902\n",
            "Epoch 36/100\n",
            "323/323 [==============================] - 0s 1ms/sample - loss: 7.0119 - mean_absolute_error: 1.7482 - val_loss: 13.4946 - val_mean_absolute_error: 2.5716\n",
            "Epoch 37/100\n",
            "323/323 [==============================] - 0s 1ms/sample - loss: 7.3835 - mean_absolute_error: 1.7856 - val_loss: 11.3649 - val_mean_absolute_error: 2.3887\n",
            "Epoch 38/100\n",
            "323/323 [==============================] - 0s 1ms/sample - loss: 6.9803 - mean_absolute_error: 1.7912 - val_loss: 13.5924 - val_mean_absolute_error: 2.3970\n",
            "Epoch 39/100\n",
            "323/323 [==============================] - 0s 1ms/sample - loss: 6.8563 - mean_absolute_error: 1.7589 - val_loss: 12.9934 - val_mean_absolute_error: 2.5713\n",
            "Epoch 40/100\n",
            "323/323 [==============================] - 0s 1ms/sample - loss: 6.6589 - mean_absolute_error: 1.6691 - val_loss: 14.4524 - val_mean_absolute_error: 2.5380\n",
            "Epoch 41/100\n",
            "323/323 [==============================] - 0s 1ms/sample - loss: 7.4107 - mean_absolute_error: 1.7545 - val_loss: 12.4950 - val_mean_absolute_error: 2.5152\n",
            "Epoch 42/100\n",
            "323/323 [==============================] - 0s 1ms/sample - loss: 6.7595 - mean_absolute_error: 1.7367 - val_loss: 14.2093 - val_mean_absolute_error: 2.6993\n",
            "Epoch 43/100\n",
            "323/323 [==============================] - 0s 1ms/sample - loss: 6.9636 - mean_absolute_error: 1.7349 - val_loss: 13.1396 - val_mean_absolute_error: 2.5085\n",
            "Epoch 44/100\n",
            "323/323 [==============================] - 0s 1ms/sample - loss: 6.9212 - mean_absolute_error: 1.7099 - val_loss: 13.4706 - val_mean_absolute_error: 2.5672\n",
            "Epoch 45/100\n",
            "323/323 [==============================] - 0s 1ms/sample - loss: 6.4920 - mean_absolute_error: 1.6502 - val_loss: 18.1058 - val_mean_absolute_error: 3.0951\n",
            "Epoch 46/100\n",
            "323/323 [==============================] - 0s 1ms/sample - loss: 6.6966 - mean_absolute_error: 1.7115 - val_loss: 15.6566 - val_mean_absolute_error: 2.8898\n",
            "Epoch 47/100\n",
            "323/323 [==============================] - 0s 1ms/sample - loss: 6.1805 - mean_absolute_error: 1.6716 - val_loss: 13.6103 - val_mean_absolute_error: 2.5373\n",
            "Epoch 48/100\n",
            "323/323 [==============================] - 0s 1ms/sample - loss: 6.4908 - mean_absolute_error: 1.6921 - val_loss: 12.2203 - val_mean_absolute_error: 2.3543\n",
            "Epoch 49/100\n",
            "323/323 [==============================] - 0s 1ms/sample - loss: 6.5359 - mean_absolute_error: 1.6445 - val_loss: 14.9184 - val_mean_absolute_error: 2.7849\n",
            "Epoch 50/100\n",
            "323/323 [==============================] - 0s 1ms/sample - loss: 6.4017 - mean_absolute_error: 1.6381 - val_loss: 15.3595 - val_mean_absolute_error: 2.7438\n",
            "Epoch 51/100\n",
            "323/323 [==============================] - 0s 1ms/sample - loss: 6.4638 - mean_absolute_error: 1.6551 - val_loss: 11.7466 - val_mean_absolute_error: 2.4158\n",
            "Epoch 52/100\n",
            "323/323 [==============================] - 0s 1ms/sample - loss: 6.3381 - mean_absolute_error: 1.6206 - val_loss: 13.0644 - val_mean_absolute_error: 2.5397\n",
            "Epoch 53/100\n",
            "323/323 [==============================] - 0s 1ms/sample - loss: 6.5161 - mean_absolute_error: 1.6617 - val_loss: 12.9640 - val_mean_absolute_error: 2.4783\n",
            "Epoch 54/100\n",
            "323/323 [==============================] - 0s 1ms/sample - loss: 6.0998 - mean_absolute_error: 1.5939 - val_loss: 13.4631 - val_mean_absolute_error: 2.4300\n",
            "Epoch 55/100\n",
            "323/323 [==============================] - 0s 1ms/sample - loss: 6.0937 - mean_absolute_error: 1.5858 - val_loss: 13.2427 - val_mean_absolute_error: 2.5557\n",
            "Epoch 56/100\n",
            "323/323 [==============================] - 0s 1ms/sample - loss: 6.2456 - mean_absolute_error: 1.6294 - val_loss: 15.3866 - val_mean_absolute_error: 2.6004\n",
            "Epoch 57/100\n",
            "323/323 [==============================] - 0s 1ms/sample - loss: 6.1616 - mean_absolute_error: 1.6380 - val_loss: 14.1476 - val_mean_absolute_error: 2.3828\n",
            "Epoch 58/100\n",
            "323/323 [==============================] - 0s 1ms/sample - loss: 5.9464 - mean_absolute_error: 1.6276 - val_loss: 15.7565 - val_mean_absolute_error: 2.5878\n",
            "Epoch 59/100\n",
            "323/323 [==============================] - 0s 1ms/sample - loss: 6.1476 - mean_absolute_error: 1.5962 - val_loss: 14.7356 - val_mean_absolute_error: 2.4942\n",
            "Epoch 60/100\n",
            "323/323 [==============================] - 0s 1ms/sample - loss: 6.1584 - mean_absolute_error: 1.5831 - val_loss: 14.1246 - val_mean_absolute_error: 2.6181\n",
            "Epoch 61/100\n",
            "323/323 [==============================] - 0s 1ms/sample - loss: 5.6948 - mean_absolute_error: 1.5529 - val_loss: 14.1033 - val_mean_absolute_error: 2.6956\n",
            "Epoch 62/100\n",
            "323/323 [==============================] - 0s 1ms/sample - loss: 6.3475 - mean_absolute_error: 1.6079 - val_loss: 13.7767 - val_mean_absolute_error: 2.4113\n",
            "Epoch 63/100\n",
            "323/323 [==============================] - 0s 1ms/sample - loss: 5.8931 - mean_absolute_error: 1.5551 - val_loss: 12.1804 - val_mean_absolute_error: 2.3819\n",
            "Epoch 64/100\n",
            "323/323 [==============================] - 0s 1ms/sample - loss: 6.0316 - mean_absolute_error: 1.5731 - val_loss: 12.9180 - val_mean_absolute_error: 2.3618\n",
            "Epoch 65/100\n",
            "323/323 [==============================] - 0s 1ms/sample - loss: 5.7312 - mean_absolute_error: 1.5752 - val_loss: 12.8502 - val_mean_absolute_error: 2.3043\n",
            "Epoch 66/100\n",
            "323/323 [==============================] - 0s 1ms/sample - loss: 5.5514 - mean_absolute_error: 1.5387 - val_loss: 16.6324 - val_mean_absolute_error: 2.9269\n",
            "Epoch 67/100\n",
            "323/323 [==============================] - 0s 1ms/sample - loss: 6.0172 - mean_absolute_error: 1.5443 - val_loss: 16.1077 - val_mean_absolute_error: 2.5263\n",
            "Epoch 68/100\n",
            "323/323 [==============================] - 0s 1ms/sample - loss: 5.7797 - mean_absolute_error: 1.5485 - val_loss: 14.2396 - val_mean_absolute_error: 2.3718\n",
            "Epoch 69/100\n",
            "323/323 [==============================] - 0s 1ms/sample - loss: 5.5077 - mean_absolute_error: 1.5366 - val_loss: 18.1385 - val_mean_absolute_error: 2.5990\n",
            "Epoch 70/100\n",
            "323/323 [==============================] - 0s 1ms/sample - loss: 5.5177 - mean_absolute_error: 1.4827 - val_loss: 15.1654 - val_mean_absolute_error: 2.4635\n",
            "Epoch 71/100\n",
            "323/323 [==============================] - 0s 1ms/sample - loss: 5.3450 - mean_absolute_error: 1.5303 - val_loss: 13.7654 - val_mean_absolute_error: 2.4414\n",
            "Epoch 72/100\n",
            "323/323 [==============================] - 0s 1ms/sample - loss: 5.8283 - mean_absolute_error: 1.5256 - val_loss: 15.0765 - val_mean_absolute_error: 2.4551\n",
            "Epoch 73/100\n",
            "323/323 [==============================] - 0s 1ms/sample - loss: 5.8302 - mean_absolute_error: 1.5308 - val_loss: 12.2432 - val_mean_absolute_error: 2.3488\n",
            "Epoch 74/100\n",
            "323/323 [==============================] - 0s 1ms/sample - loss: 5.5094 - mean_absolute_error: 1.5024 - val_loss: 16.1020 - val_mean_absolute_error: 2.7106\n",
            "Epoch 75/100\n",
            "323/323 [==============================] - 0s 1ms/sample - loss: 5.2478 - mean_absolute_error: 1.4752 - val_loss: 13.9866 - val_mean_absolute_error: 2.4853\n",
            "Epoch 76/100\n",
            "323/323 [==============================] - 0s 1ms/sample - loss: 5.8102 - mean_absolute_error: 1.5000 - val_loss: 12.2509 - val_mean_absolute_error: 2.2218\n",
            "Epoch 77/100\n",
            "323/323 [==============================] - 0s 1ms/sample - loss: 5.7205 - mean_absolute_error: 1.4628 - val_loss: 14.5888 - val_mean_absolute_error: 2.3619\n",
            "Epoch 78/100\n",
            "323/323 [==============================] - 0s 1ms/sample - loss: 5.0589 - mean_absolute_error: 1.4354 - val_loss: 11.4957 - val_mean_absolute_error: 2.2431\n",
            "Epoch 79/100\n",
            "323/323 [==============================] - 0s 1ms/sample - loss: 5.1657 - mean_absolute_error: 1.4696 - val_loss: 12.7813 - val_mean_absolute_error: 2.3565\n",
            "Epoch 80/100\n",
            "323/323 [==============================] - 0s 1ms/sample - loss: 5.1227 - mean_absolute_error: 1.4422 - val_loss: 12.4359 - val_mean_absolute_error: 2.3947\n",
            "Epoch 81/100\n",
            "323/323 [==============================] - 0s 1ms/sample - loss: 5.1483 - mean_absolute_error: 1.4578 - val_loss: 14.2772 - val_mean_absolute_error: 2.4421\n",
            "Epoch 82/100\n",
            "323/323 [==============================] - 0s 1ms/sample - loss: 5.3905 - mean_absolute_error: 1.4716 - val_loss: 11.4748 - val_mean_absolute_error: 2.2318\n",
            "Epoch 83/100\n",
            "323/323 [==============================] - 0s 1ms/sample - loss: 4.9198 - mean_absolute_error: 1.4808 - val_loss: 14.3569 - val_mean_absolute_error: 2.4238\n",
            "Epoch 84/100\n",
            "323/323 [==============================] - 0s 1ms/sample - loss: 4.7678 - mean_absolute_error: 1.4067 - val_loss: 12.0214 - val_mean_absolute_error: 2.3899\n",
            "Epoch 85/100\n",
            "323/323 [==============================] - 0s 1ms/sample - loss: 4.7997 - mean_absolute_error: 1.4228 - val_loss: 12.7845 - val_mean_absolute_error: 2.3517\n",
            "Epoch 86/100\n",
            "323/323 [==============================] - 0s 1ms/sample - loss: 4.9190 - mean_absolute_error: 1.4714 - val_loss: 13.2630 - val_mean_absolute_error: 2.2981\n",
            "Epoch 87/100\n",
            "323/323 [==============================] - 0s 1ms/sample - loss: 5.1918 - mean_absolute_error: 1.4505 - val_loss: 12.9212 - val_mean_absolute_error: 2.3327\n",
            "Epoch 88/100\n",
            "323/323 [==============================] - 0s 1ms/sample - loss: 4.9673 - mean_absolute_error: 1.4507 - val_loss: 11.8011 - val_mean_absolute_error: 2.3929\n",
            "Epoch 89/100\n",
            "323/323 [==============================] - 0s 1ms/sample - loss: 4.8718 - mean_absolute_error: 1.4272 - val_loss: 13.2205 - val_mean_absolute_error: 2.4804\n",
            "Epoch 90/100\n",
            "323/323 [==============================] - 0s 1ms/sample - loss: 4.7842 - mean_absolute_error: 1.4388 - val_loss: 11.2494 - val_mean_absolute_error: 2.2319\n",
            "Epoch 91/100\n",
            "323/323 [==============================] - 0s 1ms/sample - loss: 4.7327 - mean_absolute_error: 1.4004 - val_loss: 11.6805 - val_mean_absolute_error: 2.2433\n",
            "Epoch 92/100\n",
            "323/323 [==============================] - 0s 1ms/sample - loss: 4.6581 - mean_absolute_error: 1.3589 - val_loss: 13.6203 - val_mean_absolute_error: 2.3498\n",
            "Epoch 93/100\n",
            "323/323 [==============================] - 0s 1ms/sample - loss: 4.6523 - mean_absolute_error: 1.4188 - val_loss: 11.9869 - val_mean_absolute_error: 2.3716\n",
            "Epoch 94/100\n",
            "323/323 [==============================] - 0s 1ms/sample - loss: 4.5610 - mean_absolute_error: 1.3781 - val_loss: 12.1530 - val_mean_absolute_error: 2.2992\n",
            "Epoch 95/100\n",
            "323/323 [==============================] - 0s 1ms/sample - loss: 4.9609 - mean_absolute_error: 1.4092 - val_loss: 11.2856 - val_mean_absolute_error: 2.1971\n",
            "Epoch 96/100\n",
            "323/323 [==============================] - 0s 1ms/sample - loss: 4.5260 - mean_absolute_error: 1.3586 - val_loss: 14.6451 - val_mean_absolute_error: 2.4695\n",
            "Epoch 97/100\n",
            "323/323 [==============================] - 0s 1ms/sample - loss: 4.3841 - mean_absolute_error: 1.3864 - val_loss: 12.9121 - val_mean_absolute_error: 2.5384\n",
            "Epoch 98/100\n",
            "323/323 [==============================] - 0s 1ms/sample - loss: 4.7437 - mean_absolute_error: 1.3583 - val_loss: 11.3238 - val_mean_absolute_error: 2.2306\n",
            "Epoch 99/100\n",
            "323/323 [==============================] - 0s 1ms/sample - loss: 4.3113 - mean_absolute_error: 1.3411 - val_loss: 12.9170 - val_mean_absolute_error: 2.3398\n",
            "Epoch 100/100\n",
            "323/323 [==============================] - 0s 1ms/sample - loss: 4.0656 - mean_absolute_error: 1.3587 - val_loss: 13.2491 - val_mean_absolute_error: 2.5799\n"
          ],
          "name": "stdout"
        }
      ]
    },
    {
      "cell_type": "code",
      "metadata": {
        "id": "j4RXe63R-qyR",
        "colab_type": "code",
        "colab": {}
      },
      "source": [
        "l2_mae = history.history['mean_absolute_error']\n",
        "l2_val_mae = history.history['val_mean_absolute_error']\n",
        "\n",
        "l2_loss = history.history['loss']\n",
        "l2_val_loss = history.history['val_loss']"
      ],
      "execution_count": null,
      "outputs": []
    },
    {
      "cell_type": "code",
      "metadata": {
        "id": "0gu9RQ8w_FLa",
        "colab_type": "code",
        "colab": {
          "base_uri": "https://localhost:8080/",
          "height": 281
        },
        "outputId": "a4f2732e-47de-4598-adca-e00bf0ca0bbc"
      },
      "source": [
        "plt.plot(epochs, l2_val_mae, 'bo', label='l2 Validation mae')\n",
        "plt.plot(epochs, val_mae, 'b', label='Validation mae')\n",
        "plt.title('l2 and normal validation mae')\n",
        "plt.legend()\n",
        "\n",
        "plt.show()"
      ],
      "execution_count": null,
      "outputs": [
        {
          "output_type": "display_data",
          "data": {
            "image/png": "[encoded data removed]",
            "text/plain": [
              "<Figure size 432x288 with 1 Axes>"
            ]
          },
          "metadata": {
            "tags": []
          }
        }
      ]
    },
    {
      "cell_type": "code",
      "metadata": {
        "id": "qjfNaSw5_VwS",
        "colab_type": "code",
        "colab": {
          "base_uri": "https://localhost:8080/",
          "height": 281
        },
        "outputId": "ef88a1f2-050f-4791-8bbe-ef7255114c8b"
      },
      "source": [
        "plt.plot(epochs, l2_val_loss, 'bo', label='l2 Valdation loss')\n",
        "plt.plot(epochs, val_loss, 'b', label='Validation loss')\n",
        "plt.title('l2 and normal validation loss')\n",
        "plt.legend()\n",
        "\n",
        "plt.show()"
      ],
      "execution_count": null,
      "outputs": [
        {
          "output_type": "display_data",
          "data": {
            "image/png": "[encoded data removed]",
            "text/plain": [
              "<Figure size 432x288 with 1 Axes>"
            ]
          },
          "metadata": {
            "tags": []
          }
        }
      ]
    },
    {
      "cell_type": "code",
      "metadata": {
        "id": "R679-K4N_krJ",
        "colab_type": "code",
        "colab": {
          "base_uri": "https://localhost:8080/",
          "height": 283
        },
        "outputId": "c61efafc-11cd-41bb-daec-abe115806c7d"
      },
      "source": [
        "smooth_l2_mae_history = smooth_curve(l2_val_mae[10:])\n",
        "\n",
        "plt.plot(range(1, len(smooth_mae_history) + 1), smooth_l2_mae_history, 'bo', label='l2 Valdation mae')\n",
        "plt.plot(range(1, len(smooth_mae_history) + 1), smooth_mae_history, 'b', label='Valdation mae')\n",
        "plt.xlabel('Epochs')\n",
        "plt.ylabel('Validation MAE')\n",
        "plt.legend()\n",
        "plt.show()"
      ],
      "execution_count": null,
      "outputs": [
        {
          "output_type": "display_data",
          "data": {
            "image/png": "[encoded data removed]",
            "text/plain": [
              "<Figure size 432x288 with 1 Axes>"
            ]
          },
          "metadata": {
            "tags": []
          }
        }
      ]
    },
    {
      "cell_type": "code",
      "metadata": {
        "id": "O-YWRco_AGZf",
        "colab_type": "code",
        "colab": {}
      },
      "source": [
        ""
      ],
      "execution_count": null,
      "outputs": []
    }
  ]
}